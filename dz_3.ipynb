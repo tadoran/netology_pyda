{
 "cells": [
  {
   "cell_type": "markdown",
   "metadata": {
    "colab_type": "text",
    "id": "9wqpiQR2AbtX"
   },
   "source": [
    "# Домашнее задание №3"
   ]
  },
  {
   "cell_type": "code",
   "execution_count": 2,
   "metadata": {
    "colab": {},
    "colab_type": "code",
    "id": "Zo_j9HCKCPgi"
   },
   "outputs": [],
   "source": [
    "import numpy as np\n",
    "from scipy.stats import t\n",
    "from scipy.stats import norm\n",
    "import matplotlib.pyplot as plt\n",
    "from scipy import stats\n",
    "import pandas as pd\n",
    "import io\n",
    "import requests\n",
    "import seaborn as sns\n",
    "\n",
    "%matplotlib inline"
   ]
  },
  {
   "cell_type": "markdown",
   "metadata": {
    "colab_type": "text",
    "id": "LrhPyaIACZsb"
   },
   "source": [
    "Таблица Indian liver pations records."
   ]
  },
  {
   "cell_type": "markdown",
   "metadata": {},
   "source": [
    "Загрузить датасет https://www.kaggle.com/uciml/indian-liver-patient-records. "
   ]
  },
  {
   "cell_type": "code",
   "execution_count": 3,
   "metadata": {
    "colab": {
     "base_uri": "https://localhost:8080/",
     "height": 224
    },
    "colab_type": "code",
    "id": "LQWcltRn-vZc",
    "outputId": "57d517f0-64f9-47c1-e092-b724da8029a1"
   },
   "outputs": [
    {
     "data": {
      "text/html": [
       "<div>\n",
       "<style scoped>\n",
       "    .dataframe tbody tr th:only-of-type {\n",
       "        vertical-align: middle;\n",
       "    }\n",
       "\n",
       "    .dataframe tbody tr th {\n",
       "        vertical-align: top;\n",
       "    }\n",
       "\n",
       "    .dataframe thead th {\n",
       "        text-align: right;\n",
       "    }\n",
       "</style>\n",
       "<table border=\"1\" class=\"dataframe\">\n",
       "  <thead>\n",
       "    <tr style=\"text-align: right;\">\n",
       "      <th></th>\n",
       "      <th>Age</th>\n",
       "      <th>Gender</th>\n",
       "      <th>Total_Bilirubin</th>\n",
       "      <th>Direct_Bilirubin</th>\n",
       "      <th>Alkaline_Phosphotase</th>\n",
       "      <th>Alamine_Aminotransferase</th>\n",
       "      <th>Aspartate_Aminotransferase</th>\n",
       "      <th>Total_Protiens</th>\n",
       "      <th>Albumin</th>\n",
       "      <th>Albumin_and_Globulin_Ratio</th>\n",
       "      <th>Dataset</th>\n",
       "    </tr>\n",
       "  </thead>\n",
       "  <tbody>\n",
       "    <tr>\n",
       "      <th>578</th>\n",
       "      <td>60</td>\n",
       "      <td>Male</td>\n",
       "      <td>0.5</td>\n",
       "      <td>0.1</td>\n",
       "      <td>500</td>\n",
       "      <td>20</td>\n",
       "      <td>34</td>\n",
       "      <td>5.9</td>\n",
       "      <td>1.6</td>\n",
       "      <td>0.37</td>\n",
       "      <td>2</td>\n",
       "    </tr>\n",
       "    <tr>\n",
       "      <th>579</th>\n",
       "      <td>40</td>\n",
       "      <td>Male</td>\n",
       "      <td>0.6</td>\n",
       "      <td>0.1</td>\n",
       "      <td>98</td>\n",
       "      <td>35</td>\n",
       "      <td>31</td>\n",
       "      <td>6.0</td>\n",
       "      <td>3.2</td>\n",
       "      <td>1.10</td>\n",
       "      <td>1</td>\n",
       "    </tr>\n",
       "    <tr>\n",
       "      <th>580</th>\n",
       "      <td>52</td>\n",
       "      <td>Male</td>\n",
       "      <td>0.8</td>\n",
       "      <td>0.2</td>\n",
       "      <td>245</td>\n",
       "      <td>48</td>\n",
       "      <td>49</td>\n",
       "      <td>6.4</td>\n",
       "      <td>3.2</td>\n",
       "      <td>1.00</td>\n",
       "      <td>1</td>\n",
       "    </tr>\n",
       "    <tr>\n",
       "      <th>581</th>\n",
       "      <td>31</td>\n",
       "      <td>Male</td>\n",
       "      <td>1.3</td>\n",
       "      <td>0.5</td>\n",
       "      <td>184</td>\n",
       "      <td>29</td>\n",
       "      <td>32</td>\n",
       "      <td>6.8</td>\n",
       "      <td>3.4</td>\n",
       "      <td>1.00</td>\n",
       "      <td>1</td>\n",
       "    </tr>\n",
       "    <tr>\n",
       "      <th>582</th>\n",
       "      <td>38</td>\n",
       "      <td>Male</td>\n",
       "      <td>1.0</td>\n",
       "      <td>0.3</td>\n",
       "      <td>216</td>\n",
       "      <td>21</td>\n",
       "      <td>24</td>\n",
       "      <td>7.3</td>\n",
       "      <td>4.4</td>\n",
       "      <td>1.50</td>\n",
       "      <td>2</td>\n",
       "    </tr>\n",
       "  </tbody>\n",
       "</table>\n",
       "</div>"
      ],
      "text/plain": [
       "     Age Gender  Total_Bilirubin  Direct_Bilirubin  Alkaline_Phosphotase  \\\n",
       "578   60   Male              0.5               0.1                   500   \n",
       "579   40   Male              0.6               0.1                    98   \n",
       "580   52   Male              0.8               0.2                   245   \n",
       "581   31   Male              1.3               0.5                   184   \n",
       "582   38   Male              1.0               0.3                   216   \n",
       "\n",
       "     Alamine_Aminotransferase  Aspartate_Aminotransferase  Total_Protiens  \\\n",
       "578                        20                          34             5.9   \n",
       "579                        35                          31             6.0   \n",
       "580                        48                          49             6.4   \n",
       "581                        29                          32             6.8   \n",
       "582                        21                          24             7.3   \n",
       "\n",
       "     Albumin  Albumin_and_Globulin_Ratio  Dataset  \n",
       "578      1.6                        0.37        2  \n",
       "579      3.2                        1.10        1  \n",
       "580      3.2                        1.00        1  \n",
       "581      3.4                        1.00        1  \n",
       "582      4.4                        1.50        2  "
      ]
     },
     "execution_count": 3,
     "metadata": {},
     "output_type": "execute_result"
    }
   ],
   "source": [
    "url=\"http://yustiks.ru/dataset/indian_liver_patient.csv\"\n",
    "data=pd.read_csv(url)\n",
    "data.tail()"
   ]
  },
  {
   "cell_type": "markdown",
   "metadata": {
    "colab_type": "text",
    "id": "XyNNmtvIDDy3"
   },
   "source": [
    "Columns:\n",
    "\n",
    "*  Age of the patient\n",
    "*  Gender of the patient\n",
    "*  Total Bilirubin\n",
    "*  Direct Bilirubin\n",
    "*  Alkaline Phosphotase\n",
    "*  Alamine Aminotransferase\n",
    "*  Aspartate Aminotransferase\n",
    "*  Total Protiens\n",
    "*  Albumin\n",
    "*  Albumin and Globulin Ratio\n",
    "*  Dataset: field used to split the data into two sets (patient with liver disease, or no disease)\n"
   ]
  },
  {
   "cell_type": "markdown",
   "metadata": {},
   "source": [
    "Dataset: пациент с болезнью печени - 1,\n",
    "         пациент не болеет - 2"
   ]
  },
  {
   "cell_type": "markdown",
   "metadata": {
    "colab_type": "text",
    "id": "3v0ZWcBVSOXK"
   },
   "source": [
    "Построить одномерную линейную регрессию Direct_Bilirubin и Total_Bilirubin, предварительно разделив данные на 80% тренировочных и 20% тестовых. Построить график: исходных тренировочных и тестовых данных, а также прямой линейной регрессии."
   ]
  },
  {
   "cell_type": "code",
   "execution_count": 4,
   "metadata": {},
   "outputs": [],
   "source": [
    "X = data.iloc[:,:-1]\n",
    "illness = data[[\"Dataset\"]]"
   ]
  },
  {
   "cell_type": "code",
   "execution_count": 5,
   "metadata": {},
   "outputs": [],
   "source": [
    "from sklearn.model_selection import train_test_split\n",
    "\n",
    "X_train, X_test, y_train, y_test = train_test_split(\n",
    "    X,\n",
    "    illness,\n",
    "    test_size = 0.2,\n",
    "    random_state = 48\n",
    ")"
   ]
  },
  {
   "cell_type": "code",
   "execution_count": 6,
   "metadata": {},
   "outputs": [],
   "source": [
    "X_train_Direct_Bilirubin = np.array(X_train[[\"Direct_Bilirubin\"]]).reshape(-1, 1)\n",
    "X_test_Direct_Bilirubin = np.array(X_test[[\"Direct_Bilirubin\"]]).reshape(-1, 1)\n",
    "\n",
    "y_train= np.array(X_train[[\"Total_Bilirubin\"]]).reshape(-1, 1)\n",
    "y_test= np.array(X_test[[\"Total_Bilirubin\"]]).reshape(-1, 1)"
   ]
  },
  {
   "cell_type": "code",
   "execution_count": 7,
   "metadata": {},
   "outputs": [],
   "source": [
    "from sklearn.linear_model import LinearRegression\n",
    "model = LinearRegression()"
   ]
  },
  {
   "cell_type": "code",
   "execution_count": 8,
   "metadata": {},
   "outputs": [
    {
     "data": {
      "text/plain": [
       "0.9836760145743925"
      ]
     },
     "execution_count": 8,
     "metadata": {},
     "output_type": "execute_result"
    }
   ],
   "source": [
    "model.fit(X_train_Direct_Bilirubin, y_train)\n",
    "model.score(X_test_Direct_Bilirubin, y_test)"
   ]
  },
  {
   "cell_type": "code",
   "execution_count": 9,
   "metadata": {},
   "outputs": [
    {
     "data": {
      "text/plain": [
       "<matplotlib.legend.Legend at 0x2932a241400>"
      ]
     },
     "execution_count": 9,
     "metadata": {},
     "output_type": "execute_result"
    },
    {
     "data": {
      "image/png": "[encoded data removed]",
      "text/plain": [
       "<Figure size 432x288 with 1 Axes>"
      ]
     },
     "metadata": {
      "needs_background": "light"
     },
     "output_type": "display_data"
    }
   ],
   "source": [
    "plt.xlabel(\"Direct Bilirubin\")\n",
    "plt.ylabel(\"Total Bilirubin\")\n",
    "plt.title(\"Линейная регрессия\")\n",
    "x = np.linspace(min(X_train_Direct_Bilirubin), max(X_train_Direct_Bilirubin), 100)\n",
    "y = (model.coef_ * x + model.intercept_)\n",
    "plt.plot(x,y)\n",
    "plt.plot(X_train_Direct_Bilirubin, y_train, \"r.\")\n",
    "plt.plot(X_test_Direct_Bilirubin, y_test, \"g.\")\n",
    "plt.legend([\"Линейная регрессия\",\"Тренировочные данные\",\"Тестовые данные\"])\n",
    "\n"
   ]
  },
  {
   "cell_type": "markdown",
   "metadata": {},
   "source": [
    "Построить одномерную полиномиальную регрессию на Direct_Bilirubin и Total_Bilirubin, используя тренировочные и тестовые данные из шага выше. Проверить точность предсказаний на тестовых данных. Получилось ли улучшить результат?"
   ]
  },
  {
   "cell_type": "code",
   "execution_count": 10,
   "metadata": {},
   "outputs": [
    {
     "data": {
      "text/plain": [
       "0.9809422919531859"
      ]
     },
     "execution_count": 10,
     "metadata": {},
     "output_type": "execute_result"
    }
   ],
   "source": [
    "from sklearn.preprocessing import PolynomialFeatures\n",
    "poly_reg = PolynomialFeatures(degree = 2)\n",
    "X_poly =poly_reg.fit_transform(X_train_Direct_Bilirubin)\n",
    "\n",
    "pol_reg = LinearRegression()\n",
    "pol_reg.fit(X_poly, y_train)\n",
    "pol_reg.score(poly_reg.fit_transform(X_test_Direct_Bilirubin), y_test)"
   ]
  },
  {
   "cell_type": "markdown",
   "metadata": {},
   "source": [
    "Увеличения точности добиться не удалось, т.к. данные практически линейно зависимы. "
   ]
  },
  {
   "cell_type": "markdown",
   "metadata": {
    "colab_type": "text",
    "id": "bv5rdcvPSi_O"
   },
   "source": [
    "Построить многомерную **логистическую регрессию** для предсказания болезни (Dataset) от всех параметров, предварительно разделив данные на 80% тренировочных и 20% тестовых. Сделать классификационный отчет (куда включить количество найденных параметров true positive и false negative). Посмотреть какой получился результат."
   ]
  },
  {
   "cell_type": "code",
   "execution_count": 11,
   "metadata": {},
   "outputs": [],
   "source": [
    "data2 = data.dropna()\n",
    "X = data2.drop(\"Dataset\", axis = 1)\n",
    "X[\"Gender\"] = data2[\"Gender\"].apply(lambda x: int(x == \"Male\"))\n",
    "y = data2.Dataset"
   ]
  },
  {
   "cell_type": "code",
   "execution_count": 12,
   "metadata": {},
   "outputs": [],
   "source": [
    "from sklearn.linear_model import LogisticRegression\n",
    "X_train, X_test, y_train, y_test = train_test_split(X, y, test_size=0.2, random_state = 13)\n",
    "model = LogisticRegression(solver=\"liblinear\").fit(X_train, y_train)"
   ]
  },
  {
   "cell_type": "code",
   "execution_count": 13,
   "metadata": {},
   "outputs": [
    {
     "name": "stdout",
     "output_type": "stream",
     "text": [
      "              precision    recall  f1-score   support\n",
      "\n",
      "           1       0.76      0.98      0.86        85\n",
      "           2       0.71      0.16      0.26        31\n",
      "\n",
      "    accuracy                           0.76       116\n",
      "   macro avg       0.74      0.57      0.56       116\n",
      "weighted avg       0.75      0.76      0.70       116\n",
      "\n"
     ]
    }
   ],
   "source": [
    "from sklearn.metrics import classification_report\n",
    "model_pred = model.predict(X_test)\n",
    "print(classification_report(y_test, model_pred))"
   ]
  },
  {
   "cell_type": "markdown",
   "metadata": {
    "colab_type": "text",
    "id": "bv5rdcvPSi_O"
   },
   "source": [
    "Улучшить модель за счет уменьшения параметров, отобранных для обучения модели. Выбрать только те атрибуты, которые коррелируют с таргет значением (атрибут Dataset) более 50% (нужно будет построить матрицу корреляций и посмотреть в ней параметры, наиболее коррелирующие с Dataset атрибутом). Проверить модель на тестовых данных, полученных выше. Построить классификационный отчет, сделать сравнение двух моделей по этим классификационным отчетам."
   ]
  },
  {
   "cell_type": "code",
   "execution_count": 14,
   "metadata": {},
   "outputs": [
    {
     "data": {
      "text/plain": [
       "Dataset                       1.000000\n",
       "Direct_Bilirubin              0.246273\n",
       "Total_Bilirubin               0.220218\n",
       "Alkaline_Phosphotase          0.183363\n",
       "Albumin_and_Globulin_Ratio    0.163131\n",
       "Alamine_Aminotransferase      0.163117\n",
       "Albumin                       0.159770\n",
       "Aspartate_Aminotransferase    0.151834\n",
       "Age                           0.133164\n",
       "Total_Protiens                0.033614\n",
       "Name: Dataset, dtype: float64"
      ]
     },
     "execution_count": 14,
     "metadata": {},
     "output_type": "execute_result"
    }
   ],
   "source": [
    "dataset_corr = data2.corr().abs().Dataset.sort_values(ascending=False)\n",
    "dataset_corr"
   ]
  },
  {
   "cell_type": "code",
   "execution_count": 15,
   "metadata": {},
   "outputs": [],
   "source": [
    "# Корреляций с уровнем >50% не найдено. Берем 4 самые сильные корреляции \n",
    "max_corr = list(dataset_corr[1:5].keys())"
   ]
  },
  {
   "cell_type": "code",
   "execution_count": 16,
   "metadata": {},
   "outputs": [],
   "source": [
    "X_train, X_test, y_train, y_test = train_test_split(data2[max_corr], y, test_size=0.2, random_state=14)\n",
    "model2 = LogisticRegression(solver=\"liblinear\").fit(X_train, y_train)\n",
    "model_pred2 = model2.predict(X_test)"
   ]
  },
  {
   "cell_type": "code",
   "execution_count": 17,
   "metadata": {},
   "outputs": [
    {
     "name": "stdout",
     "output_type": "stream",
     "text": [
      "              precision    recall  f1-score   support\n",
      "\n",
      "           1       0.74      0.93      0.82        86\n",
      "           2       0.25      0.07      0.11        30\n",
      "\n",
      "    accuracy                           0.71       116\n",
      "   macro avg       0.50      0.50      0.47       116\n",
      "weighted avg       0.61      0.71      0.64       116\n",
      "\n"
     ]
    }
   ],
   "source": [
    "print(classification_report(y_test, model_pred2))"
   ]
  },
  {
   "cell_type": "markdown",
   "metadata": {},
   "source": [
    "Похоже, что учитывая только 4 максимальные корреляции (при том, что они - не сильные) точность не увеличилась. Модель, кажется, записывает всех испытуемых в одну группу."
   ]
  },
  {
   "cell_type": "markdown",
   "metadata": {
    "colab_type": "text",
    "id": "ZWc_9uF3PQIo"
   },
   "source": [
    "Посчитать квартили для всех колонок. "
   ]
  },
  {
   "cell_type": "code",
   "execution_count": 18,
   "metadata": {},
   "outputs": [
    {
     "data": {
      "text/html": [
       "<div>\n",
       "<style scoped>\n",
       "    .dataframe tbody tr th:only-of-type {\n",
       "        vertical-align: middle;\n",
       "    }\n",
       "\n",
       "    .dataframe tbody tr th {\n",
       "        vertical-align: top;\n",
       "    }\n",
       "\n",
       "    .dataframe thead th {\n",
       "        text-align: right;\n",
       "    }\n",
       "</style>\n",
       "<table border=\"1\" class=\"dataframe\">\n",
       "  <thead>\n",
       "    <tr style=\"text-align: right;\">\n",
       "      <th></th>\n",
       "      <th>0.1</th>\n",
       "      <th>0.25</th>\n",
       "      <th>0.5</th>\n",
       "      <th>0.75</th>\n",
       "      <th>0.9</th>\n",
       "    </tr>\n",
       "  </thead>\n",
       "  <tbody>\n",
       "    <tr>\n",
       "      <th>Age</th>\n",
       "      <td>23.000</td>\n",
       "      <td>33.0</td>\n",
       "      <td>45.00</td>\n",
       "      <td>58.0</td>\n",
       "      <td>66.000</td>\n",
       "    </tr>\n",
       "    <tr>\n",
       "      <th>Total_Bilirubin</th>\n",
       "      <td>0.700</td>\n",
       "      <td>0.8</td>\n",
       "      <td>1.00</td>\n",
       "      <td>2.6</td>\n",
       "      <td>7.920</td>\n",
       "    </tr>\n",
       "    <tr>\n",
       "      <th>Direct_Bilirubin</th>\n",
       "      <td>0.100</td>\n",
       "      <td>0.2</td>\n",
       "      <td>0.30</td>\n",
       "      <td>1.3</td>\n",
       "      <td>4.100</td>\n",
       "    </tr>\n",
       "    <tr>\n",
       "      <th>Alkaline_Phosphotase</th>\n",
       "      <td>150.000</td>\n",
       "      <td>175.5</td>\n",
       "      <td>208.00</td>\n",
       "      <td>298.0</td>\n",
       "      <td>512.600</td>\n",
       "    </tr>\n",
       "    <tr>\n",
       "      <th>Alamine_Aminotransferase</th>\n",
       "      <td>18.000</td>\n",
       "      <td>23.0</td>\n",
       "      <td>35.00</td>\n",
       "      <td>61.0</td>\n",
       "      <td>140.200</td>\n",
       "    </tr>\n",
       "    <tr>\n",
       "      <th>Aspartate_Aminotransferase</th>\n",
       "      <td>19.000</td>\n",
       "      <td>25.0</td>\n",
       "      <td>42.00</td>\n",
       "      <td>87.0</td>\n",
       "      <td>192.000</td>\n",
       "    </tr>\n",
       "    <tr>\n",
       "      <th>Total_Protiens</th>\n",
       "      <td>5.100</td>\n",
       "      <td>5.8</td>\n",
       "      <td>6.60</td>\n",
       "      <td>7.2</td>\n",
       "      <td>7.900</td>\n",
       "    </tr>\n",
       "    <tr>\n",
       "      <th>Albumin</th>\n",
       "      <td>2.000</td>\n",
       "      <td>2.6</td>\n",
       "      <td>3.10</td>\n",
       "      <td>3.8</td>\n",
       "      <td>4.100</td>\n",
       "    </tr>\n",
       "    <tr>\n",
       "      <th>Albumin_and_Globulin_Ratio</th>\n",
       "      <td>0.546</td>\n",
       "      <td>0.7</td>\n",
       "      <td>0.93</td>\n",
       "      <td>1.1</td>\n",
       "      <td>1.308</td>\n",
       "    </tr>\n",
       "    <tr>\n",
       "      <th>Dataset</th>\n",
       "      <td>1.000</td>\n",
       "      <td>1.0</td>\n",
       "      <td>1.00</td>\n",
       "      <td>2.0</td>\n",
       "      <td>2.000</td>\n",
       "    </tr>\n",
       "  </tbody>\n",
       "</table>\n",
       "</div>"
      ],
      "text/plain": [
       "                               0.10   0.25    0.50   0.75     0.90\n",
       "Age                          23.000   33.0   45.00   58.0   66.000\n",
       "Total_Bilirubin               0.700    0.8    1.00    2.6    7.920\n",
       "Direct_Bilirubin              0.100    0.2    0.30    1.3    4.100\n",
       "Alkaline_Phosphotase        150.000  175.5  208.00  298.0  512.600\n",
       "Alamine_Aminotransferase     18.000   23.0   35.00   61.0  140.200\n",
       "Aspartate_Aminotransferase   19.000   25.0   42.00   87.0  192.000\n",
       "Total_Protiens                5.100    5.8    6.60    7.2    7.900\n",
       "Albumin                       2.000    2.6    3.10    3.8    4.100\n",
       "Albumin_and_Globulin_Ratio    0.546    0.7    0.93    1.1    1.308\n",
       "Dataset                       1.000    1.0    1.00    2.0    2.000"
      ]
     },
     "execution_count": 18,
     "metadata": {},
     "output_type": "execute_result"
    }
   ],
   "source": [
    "data2.quantile([0.10, 0.25, 0.50, 0.75, 0.90]).T"
   ]
  },
  {
   "cell_type": "code",
   "execution_count": 19,
   "metadata": {},
   "outputs": [
    {
     "data": {
      "text/html": [
       "<div>\n",
       "<style scoped>\n",
       "    .dataframe tbody tr th:only-of-type {\n",
       "        vertical-align: middle;\n",
       "    }\n",
       "\n",
       "    .dataframe tbody tr th {\n",
       "        vertical-align: top;\n",
       "    }\n",
       "\n",
       "    .dataframe thead th {\n",
       "        text-align: right;\n",
       "    }\n",
       "</style>\n",
       "<table border=\"1\" class=\"dataframe\">\n",
       "  <thead>\n",
       "    <tr style=\"text-align: right;\">\n",
       "      <th></th>\n",
       "      <th>count</th>\n",
       "      <th>mean</th>\n",
       "      <th>std</th>\n",
       "      <th>min</th>\n",
       "      <th>25%</th>\n",
       "      <th>50%</th>\n",
       "      <th>75%</th>\n",
       "      <th>max</th>\n",
       "    </tr>\n",
       "  </thead>\n",
       "  <tbody>\n",
       "    <tr>\n",
       "      <th>Age</th>\n",
       "      <td>579.0</td>\n",
       "      <td>44.782383</td>\n",
       "      <td>16.221786</td>\n",
       "      <td>4.0</td>\n",
       "      <td>33.0</td>\n",
       "      <td>45.00</td>\n",
       "      <td>58.0</td>\n",
       "      <td>90.0</td>\n",
       "    </tr>\n",
       "    <tr>\n",
       "      <th>Total_Bilirubin</th>\n",
       "      <td>579.0</td>\n",
       "      <td>3.315371</td>\n",
       "      <td>6.227716</td>\n",
       "      <td>0.4</td>\n",
       "      <td>0.8</td>\n",
       "      <td>1.00</td>\n",
       "      <td>2.6</td>\n",
       "      <td>75.0</td>\n",
       "    </tr>\n",
       "    <tr>\n",
       "      <th>Direct_Bilirubin</th>\n",
       "      <td>579.0</td>\n",
       "      <td>1.494128</td>\n",
       "      <td>2.816499</td>\n",
       "      <td>0.1</td>\n",
       "      <td>0.2</td>\n",
       "      <td>0.30</td>\n",
       "      <td>1.3</td>\n",
       "      <td>19.7</td>\n",
       "    </tr>\n",
       "    <tr>\n",
       "      <th>Alkaline_Phosphotase</th>\n",
       "      <td>579.0</td>\n",
       "      <td>291.366149</td>\n",
       "      <td>243.561863</td>\n",
       "      <td>63.0</td>\n",
       "      <td>175.5</td>\n",
       "      <td>208.00</td>\n",
       "      <td>298.0</td>\n",
       "      <td>2110.0</td>\n",
       "    </tr>\n",
       "    <tr>\n",
       "      <th>Alamine_Aminotransferase</th>\n",
       "      <td>579.0</td>\n",
       "      <td>81.126079</td>\n",
       "      <td>183.182845</td>\n",
       "      <td>10.0</td>\n",
       "      <td>23.0</td>\n",
       "      <td>35.00</td>\n",
       "      <td>61.0</td>\n",
       "      <td>2000.0</td>\n",
       "    </tr>\n",
       "    <tr>\n",
       "      <th>Aspartate_Aminotransferase</th>\n",
       "      <td>579.0</td>\n",
       "      <td>110.414508</td>\n",
       "      <td>289.850034</td>\n",
       "      <td>10.0</td>\n",
       "      <td>25.0</td>\n",
       "      <td>42.00</td>\n",
       "      <td>87.0</td>\n",
       "      <td>4929.0</td>\n",
       "    </tr>\n",
       "    <tr>\n",
       "      <th>Total_Protiens</th>\n",
       "      <td>579.0</td>\n",
       "      <td>6.481693</td>\n",
       "      <td>1.084641</td>\n",
       "      <td>2.7</td>\n",
       "      <td>5.8</td>\n",
       "      <td>6.60</td>\n",
       "      <td>7.2</td>\n",
       "      <td>9.6</td>\n",
       "    </tr>\n",
       "    <tr>\n",
       "      <th>Albumin</th>\n",
       "      <td>579.0</td>\n",
       "      <td>3.138515</td>\n",
       "      <td>0.794435</td>\n",
       "      <td>0.9</td>\n",
       "      <td>2.6</td>\n",
       "      <td>3.10</td>\n",
       "      <td>3.8</td>\n",
       "      <td>5.5</td>\n",
       "    </tr>\n",
       "    <tr>\n",
       "      <th>Albumin_and_Globulin_Ratio</th>\n",
       "      <td>579.0</td>\n",
       "      <td>0.947064</td>\n",
       "      <td>0.319592</td>\n",
       "      <td>0.3</td>\n",
       "      <td>0.7</td>\n",
       "      <td>0.93</td>\n",
       "      <td>1.1</td>\n",
       "      <td>2.8</td>\n",
       "    </tr>\n",
       "    <tr>\n",
       "      <th>Dataset</th>\n",
       "      <td>579.0</td>\n",
       "      <td>1.284974</td>\n",
       "      <td>0.451792</td>\n",
       "      <td>1.0</td>\n",
       "      <td>1.0</td>\n",
       "      <td>1.00</td>\n",
       "      <td>2.0</td>\n",
       "      <td>2.0</td>\n",
       "    </tr>\n",
       "  </tbody>\n",
       "</table>\n",
       "</div>"
      ],
      "text/plain": [
       "                            count        mean         std   min    25%  \\\n",
       "Age                         579.0   44.782383   16.221786   4.0   33.0   \n",
       "Total_Bilirubin             579.0    3.315371    6.227716   0.4    0.8   \n",
       "Direct_Bilirubin            579.0    1.494128    2.816499   0.1    0.2   \n",
       "Alkaline_Phosphotase        579.0  291.366149  243.561863  63.0  175.5   \n",
       "Alamine_Aminotransferase    579.0   81.126079  183.182845  10.0   23.0   \n",
       "Aspartate_Aminotransferase  579.0  110.414508  289.850034  10.0   25.0   \n",
       "Total_Protiens              579.0    6.481693    1.084641   2.7    5.8   \n",
       "Albumin                     579.0    3.138515    0.794435   0.9    2.6   \n",
       "Albumin_and_Globulin_Ratio  579.0    0.947064    0.319592   0.3    0.7   \n",
       "Dataset                     579.0    1.284974    0.451792   1.0    1.0   \n",
       "\n",
       "                               50%    75%     max  \n",
       "Age                          45.00   58.0    90.0  \n",
       "Total_Bilirubin               1.00    2.6    75.0  \n",
       "Direct_Bilirubin              0.30    1.3    19.7  \n",
       "Alkaline_Phosphotase        208.00  298.0  2110.0  \n",
       "Alamine_Aminotransferase     35.00   61.0  2000.0  \n",
       "Aspartate_Aminotransferase   42.00   87.0  4929.0  \n",
       "Total_Protiens                6.60    7.2     9.6  \n",
       "Albumin                       3.10    3.8     5.5  \n",
       "Albumin_and_Globulin_Ratio    0.93    1.1     2.8  \n",
       "Dataset                       1.00    2.0     2.0  "
      ]
     },
     "execution_count": 19,
     "metadata": {},
     "output_type": "execute_result"
    }
   ],
   "source": [
    "data2.describe().T"
   ]
  },
  {
   "cell_type": "code",
   "execution_count": 20,
   "metadata": {},
   "outputs": [
    {
     "data": {
      "text/plain": [
       "<matplotlib.axes._subplots.AxesSubplot at 0x2932a280048>"
      ]
     },
     "execution_count": 20,
     "metadata": {},
     "output_type": "execute_result"
    },
    {
     "data": {
      "image/png": "[encoded data removed]",
      "text/plain": [
       "<Figure size 432x288 with 1 Axes>"
      ]
     },
     "metadata": {
      "needs_background": "light"
     },
     "output_type": "display_data"
    }
   ],
   "source": [
    "sns.boxplot(x=data2.Dataset, y=data2.Age, hue=data2.Gender)"
   ]
  },
  {
   "cell_type": "markdown",
   "metadata": {
    "colab_type": "text",
    "id": "7kwq4rqzOoz1"
   },
   "source": [
    "Построить график histogram двух выборок по наличию или отсутствию болезни: люди, возрастом до 50 лет, и люди после 50 лет. Посчитать среднее значение и квартиль 0.5 в данных выборках. Чем они отличаются?"
   ]
  },
  {
   "cell_type": "code",
   "execution_count": 21,
   "metadata": {},
   "outputs": [
    {
     "data": {
      "image/png": "[encoded data removed]",
      "text/plain": [
       "<Figure size 432x288 with 4 Axes>"
      ]
     },
     "metadata": {
      "needs_background": "light"
     },
     "output_type": "display_data"
    }
   ],
   "source": [
    "fig, axes = plt.subplots(nrows=2, ncols=2)\n",
    "ax = axes.flatten()\n",
    "plt_params = ([\n",
    "    [data2[(data2.Age < 50) & (data2.Dataset == 1)],\"<50 лет, здоровые\"],\n",
    "    [data2[(data2.Age >= 50) & (data2.Dataset == 1)],\">=50 лет, здоровые\"],\n",
    "    [data2[(data2.Age < 50) & (data2.Dataset == 2)],\">50 лет, больные\"],\n",
    "    [data2[(data2.Age >= 50) & (data2.Dataset == 2)],\">=50 лет, больные\"]\n",
    "])\n",
    "for n, axis in enumerate(ax):\n",
    "    sns.distplot(plt_params[n][0][\"Age\"], ax=axis)\n",
    "    ax[n].set_title(plt_params[n][1])\n",
    "plt.xscale(\"log\")\n",
    "plt.tight_layout()\n",
    "plt.show()"
   ]
  },
  {
   "cell_type": "code",
   "execution_count": 22,
   "metadata": {},
   "outputs": [
    {
     "name": "stdout",
     "output_type": "stream",
     "text": [
      "<50 лет, здоровые\n",
      "                                  mean     50%\n",
      "Age                          35.316667   37.00\n",
      "Total_Bilirubin               4.196250    1.25\n",
      "Direct_Bilirubin              2.017917    0.45\n",
      "Alkaline_Phosphotase        291.800000  221.50\n",
      "Alamine_Aminotransferase    122.533333   45.00\n",
      "Aspartate_Aminotransferase  149.945833   58.00\n",
      "Total_Protiens                6.588750    6.75\n",
      "Albumin                       3.217500    3.20\n",
      "Albumin_and_Globulin_Ratio    0.978250    1.00\n",
      "Dataset                       1.000000    1.00\n",
      "\n",
      ">=50 лет, здоровые\n",
      "                                  mean    50%\n",
      "Age                          61.080460   60.0\n",
      "Total_Bilirubin               4.158621    1.7\n",
      "Direct_Bilirubin              1.812644    0.6\n",
      "Alkaline_Phosphotase        357.793103  238.0\n",
      "Alamine_Aminotransferase     68.856322   37.5\n",
      "Aspartate_Aminotransferase  121.936782   46.5\n",
      "Total_Protiens                6.279310    6.4\n",
      "Albumin                       2.839080    2.9\n",
      "Albumin_and_Globulin_Ratio    0.825805    0.8\n",
      "Dataset                       1.000000    1.0\n",
      "\n",
      ">50 лет, больные\n",
      "                                  mean    50%\n",
      "Age                          31.663636   34.0\n",
      "Total_Bilirubin               1.136364    0.8\n",
      "Direct_Bilirubin              0.383636    0.2\n",
      "Alkaline_Phosphotase        214.445455  182.5\n",
      "Alamine_Aminotransferase     34.818182   28.0\n",
      "Aspartate_Aminotransferase   41.700000   31.5\n",
      "Total_Protiens                6.605455    6.7\n",
      "Albumin                       3.374545    3.5\n",
      "Albumin_and_Globulin_Ratio    1.020818    1.0\n",
      "Dataset                       2.000000    2.0\n",
      "\n",
      ">=50 лет, больные\n",
      "                                  mean    50%\n",
      "Age                          60.763636   60.0\n",
      "Total_Bilirubin               1.161818    0.8\n",
      "Direct_Bilirubin              0.421818    0.2\n",
      "Alkaline_Phosphotase        233.163636  191.0\n",
      "Alamine_Aminotransferase     31.872727   24.0\n",
      "Aspartate_Aminotransferase   38.890909   25.0\n",
      "Total_Protiens                6.407273    6.3\n",
      "Albumin                       3.269091    3.3\n",
      "Albumin_and_Globulin_Ratio    1.047091    1.0\n",
      "Dataset                       2.000000    2.0\n",
      "\n"
     ]
    }
   ],
   "source": [
    "for group in plt_params:\n",
    "    print(group[1])\n",
    "    print(group[0].describe().loc[[\"mean\",\"50%\"], :].T)\n",
    "    print()"
   ]
  },
  {
   "cell_type": "markdown",
   "metadata": {
    "colab_type": "text",
    "id": "QZVd-KyDQq38"
   },
   "source": [
    "\n",
    "Посчитать критерий одновыборочный t-критерий для выборки по критерию Total_Bilirubin у больных людей. Как показатель помогает понять, что выборки не похожа на генеральную совокупность?"
   ]
  },
  {
   "cell_type": "code",
   "execution_count": 113,
   "metadata": {},
   "outputs": [
    {
     "data": {
      "text/plain": [
       "Ttest_1sampResult(statistic=2.4588588880494733, pvalue=0.014347239706774866)"
      ]
     },
     "execution_count": 113,
     "metadata": {},
     "output_type": "execute_result"
    }
   ],
   "source": [
    "all_Total_Bilirubin = data2.Total_Bilirubin\n",
    "sick_Total_Bilirubin = data2[data2.Dataset == 1].Total_Bilirubin\n",
    "stats.ttest_1samp(sick_Total_Bilirubin, all_Total_Bilirubin.mean())"
   ]
  },
  {
   "cell_type": "markdown",
   "metadata": {},
   "source": [
    "p = 0.014, т.е нулевая гипотеза о том, что выборки распределены одинаково отвергается."
   ]
  },
  {
   "cell_type": "code",
   "execution_count": 120,
   "metadata": {},
   "outputs": [
    {
     "data": {
      "image/png": "[encoded data removed]",
      "text/plain": [
       "<Figure size 432x288 with 1 Axes>"
      ]
     },
     "metadata": {
      "needs_background": "light"
     },
     "output_type": "display_data"
    }
   ],
   "source": [
    "sns.distplot(a=all_Total_Bilirubin, label=\"Все испытуемые\")\n",
    "sns.distplot(a=sick_Total_Bilirubin, label=\"Больные\")\n",
    "plt.gca().set_xscale(\"log\")\n",
    "plt.legend([\"Все испытуемые\", \"Больные\"])\n",
    "plt.show()"
   ]
  },
  {
   "cell_type": "markdown",
   "metadata": {
    "colab_type": "text",
    "id": "dI901FRqRC8A"
   },
   "source": [
    "Посчитать критерий t для двух выборок: больные и здоровые (по критерию Total_Bilirubin). Имеют ли данные группы схожесть?"
   ]
  },
  {
   "cell_type": "code",
   "execution_count": 123,
   "metadata": {},
   "outputs": [
    {
     "name": "stdout",
     "output_type": "stream",
     "text": [
      "p = 0.0000, нулевая гипотеза о равномерности распределения выборок отвергается.\n"
     ]
    },
    {
     "data": {
      "text/plain": [
       "Ttest_indResult(statistic=-5.422946004172417, pvalue=8.632557516910643e-08)"
      ]
     },
     "execution_count": 123,
     "metadata": {},
     "output_type": "execute_result"
    }
   ],
   "source": [
    "healthy_Total_Bilirubin = data2[data2.Dataset == 2].Total_Bilirubin\n",
    "sick_Total_Bilirubin = data2[data2.Dataset == 1].Total_Bilirubin\n",
    "t_crit = stats.ttest_ind(healthy_Total_Bilirubin, sick_Total_Bilirubin)\n",
    "print(f\"p = {t_crit.pvalue:.4f}, нулевая гипотеза о равномерности распределения выборок отвергается.\")\n",
    "t_crit"
   ]
  },
  {
   "cell_type": "markdown",
   "metadata": {
    "colab_type": "text",
    "id": "2e0YHsEqAnvv"
   },
   "source": [
    "Посчитать статистическую значимость для трех выборок (по возрасту) - 1ая группа от 1 до 30 лет, 2ая группа от 30 лет до 55, 3я группа более 55 по выборке Dataset. Сравнить с реальностью (они логично что будут отличаться)."
   ]
  },
  {
   "cell_type": "code",
   "execution_count": 125,
   "metadata": {},
   "outputs": [
    {
     "name": "stdout",
     "output_type": "stream",
     "text": [
      "p=0.0002, следовательно нулевую гипотезу об отсутствии разницы между выборками отвергаем.\n"
     ]
    }
   ],
   "source": [
    "group1 = data2[data2.Age < 30].Dataset\n",
    "group2 = data2[(data2.Age >= 30) & (data2.Age < 55)].Dataset\n",
    "group3 = data2[data2.Age > 55].Dataset\n",
    "anova_crit = stats.f_oneway(group1, group2, group3)\n",
    "print(f\"p={anova_crit.pvalue:.4f}, следовательно нулевую гипотезу об отсутствии разницы между выборками отвергаем.\")"
   ]
  },
  {
   "cell_type": "markdown",
   "metadata": {
    "colab_type": "text",
    "id": "Jm1ESbSRRPOP"
   },
   "source": [
    "Вопросы задавать на почту yustiks@gmail.com"
   ]
  }
 ],
 "metadata": {
  "colab": {
   "collapsed_sections": [],
   "name": "dz_3.ipynb",
   "provenance": [],
   "toc_visible": true,
   "version": "0.3.2"
  },
  "kernelspec": {
   "display_name": "Python 3",
   "language": "python",
   "name": "python3"
  },
  "language_info": {
   "codemirror_mode": {
    "name": "ipython",
    "version": 3
   },
   "file_extension": ".py",
   "mimetype": "text/x-python",
   "name": "python",
   "nbconvert_exporter": "python",
   "pygments_lexer": "ipython3",
   "version": "3.7.3"
  }
 },
 "nbformat": 4,
 "nbformat_minor": 1
}
