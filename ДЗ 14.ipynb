{
 "cells": [
  {
   "cell_type": "markdown",
   "metadata": {},
   "source": [
    "### [Микроперепись населения - 2015](https://gks.ru/free_doc/new_site/population/demo/micro-perepis/finish/micro-perepis.html)  \n",
    "#### 1.2. [Население, принявшее участие в микропереписи, по полу, возрастным группам и состоянию в браке (супружеском союзе)](https://gks.ru/free_doc/new_site/population/demo/micro-perepis/finish/01/01-02_(%D0%B0%D0%B1%D1%81).xlsx)\n",
    "Данные предварительно упрощены для машинного анализа (удалены агрегированные показатели по округам, областям и т.д.)"
   ]
  },
  {
   "cell_type": "code",
   "execution_count": 1,
   "metadata": {},
   "outputs": [],
   "source": [
    "import pandas as pd\n",
    "import seaborn as sns\n",
    "import matplotlib.pyplot as plt\n",
    "%matplotlib inline"
   ]
  },
  {
   "cell_type": "code",
   "execution_count": 2,
   "metadata": {},
   "outputs": [
    {
     "data": {
      "text/html": [
       "<div>\n",
       "<style scoped>\n",
       "    .dataframe tbody tr th:only-of-type {\n",
       "        vertical-align: middle;\n",
       "    }\n",
       "\n",
       "    .dataframe tbody tr th {\n",
       "        vertical-align: top;\n",
       "    }\n",
       "\n",
       "    .dataframe thead th {\n",
       "        text-align: right;\n",
       "    }\n",
       "</style>\n",
       "<table border=\"1\" class=\"dataframe\">\n",
       "  <thead>\n",
       "    <tr style=\"text-align: right;\">\n",
       "      <th></th>\n",
       "      <th>FederalDistrict</th>\n",
       "      <th>Region</th>\n",
       "      <th>CityOrRural</th>\n",
       "      <th>Gender</th>\n",
       "      <th>AgeGroup</th>\n",
       "      <th>TotalRespondents</th>\n",
       "      <th>AnsweredAboutMarriage</th>\n",
       "      <th>DeclinedAbotMarriage</th>\n",
       "      <th>InMarriage</th>\n",
       "      <th>InOfficialMarriage</th>\n",
       "      <th>InNonOfficialMarriage</th>\n",
       "      <th>NeverMarried</th>\n",
       "      <th>OfficiallyDivorced</th>\n",
       "      <th>NonOfficialylDivorced</th>\n",
       "      <th>Widow</th>\n",
       "      <th>Divorced</th>\n",
       "    </tr>\n",
       "  </thead>\n",
       "  <tbody>\n",
       "    <tr>\n",
       "      <th>0</th>\n",
       "      <td>Центральный</td>\n",
       "      <td>Белгородская область</td>\n",
       "      <td>Городское население</td>\n",
       "      <td>Мужчины</td>\n",
       "      <td>16 – 17</td>\n",
       "      <td>144</td>\n",
       "      <td>143</td>\n",
       "      <td>1.0</td>\n",
       "      <td>3.0</td>\n",
       "      <td>3.0</td>\n",
       "      <td>NaN</td>\n",
       "      <td>140.0</td>\n",
       "      <td>NaN</td>\n",
       "      <td>NaN</td>\n",
       "      <td>NaN</td>\n",
       "      <td>NaN</td>\n",
       "    </tr>\n",
       "    <tr>\n",
       "      <th>1</th>\n",
       "      <td>Центральный</td>\n",
       "      <td>Белгородская область</td>\n",
       "      <td>Городское население</td>\n",
       "      <td>Мужчины</td>\n",
       "      <td>18 – 19</td>\n",
       "      <td>135</td>\n",
       "      <td>135</td>\n",
       "      <td>NaN</td>\n",
       "      <td>5.0</td>\n",
       "      <td>3.0</td>\n",
       "      <td>2.0</td>\n",
       "      <td>129.0</td>\n",
       "      <td>NaN</td>\n",
       "      <td>1.0</td>\n",
       "      <td>NaN</td>\n",
       "      <td>NaN</td>\n",
       "    </tr>\n",
       "    <tr>\n",
       "      <th>2</th>\n",
       "      <td>Центральный</td>\n",
       "      <td>Белгородская область</td>\n",
       "      <td>Городское население</td>\n",
       "      <td>Мужчины</td>\n",
       "      <td>20 – 24</td>\n",
       "      <td>531</td>\n",
       "      <td>531</td>\n",
       "      <td>NaN</td>\n",
       "      <td>115.0</td>\n",
       "      <td>72.0</td>\n",
       "      <td>43.0</td>\n",
       "      <td>411.0</td>\n",
       "      <td>4.0</td>\n",
       "      <td>1.0</td>\n",
       "      <td>NaN</td>\n",
       "      <td>5.0</td>\n",
       "    </tr>\n",
       "    <tr>\n",
       "      <th>3</th>\n",
       "      <td>Центральный</td>\n",
       "      <td>Белгородская область</td>\n",
       "      <td>Городское население</td>\n",
       "      <td>Мужчины</td>\n",
       "      <td>25 – 29</td>\n",
       "      <td>725</td>\n",
       "      <td>725</td>\n",
       "      <td>NaN</td>\n",
       "      <td>435.0</td>\n",
       "      <td>367.0</td>\n",
       "      <td>68.0</td>\n",
       "      <td>255.0</td>\n",
       "      <td>23.0</td>\n",
       "      <td>12.0</td>\n",
       "      <td>NaN</td>\n",
       "      <td>35.0</td>\n",
       "    </tr>\n",
       "    <tr>\n",
       "      <th>4</th>\n",
       "      <td>Центральный</td>\n",
       "      <td>Белгородская область</td>\n",
       "      <td>Городское население</td>\n",
       "      <td>Мужчины</td>\n",
       "      <td>30 – 34</td>\n",
       "      <td>684</td>\n",
       "      <td>684</td>\n",
       "      <td>NaN</td>\n",
       "      <td>501.0</td>\n",
       "      <td>451.0</td>\n",
       "      <td>50.0</td>\n",
       "      <td>103.0</td>\n",
       "      <td>60.0</td>\n",
       "      <td>18.0</td>\n",
       "      <td>2.0</td>\n",
       "      <td>78.0</td>\n",
       "    </tr>\n",
       "  </tbody>\n",
       "</table>\n",
       "</div>"
      ],
      "text/plain": [
       "  FederalDistrict                Region          CityOrRural   Gender  \\\n",
       "0     Центральный  Белгородская область  Городское население  Мужчины   \n",
       "1     Центральный  Белгородская область  Городское население  Мужчины   \n",
       "2     Центральный  Белгородская область  Городское население  Мужчины   \n",
       "3     Центральный  Белгородская область  Городское население  Мужчины   \n",
       "4     Центральный  Белгородская область  Городское население  Мужчины   \n",
       "\n",
       "  AgeGroup  TotalRespondents  AnsweredAboutMarriage  DeclinedAbotMarriage  \\\n",
       "0  16 – 17               144                    143                   1.0   \n",
       "1  18 – 19               135                    135                   NaN   \n",
       "2  20 – 24               531                    531                   NaN   \n",
       "3  25 – 29               725                    725                   NaN   \n",
       "4  30 – 34               684                    684                   NaN   \n",
       "\n",
       "   InMarriage  InOfficialMarriage  InNonOfficialMarriage  NeverMarried  \\\n",
       "0         3.0                 3.0                    NaN         140.0   \n",
       "1         5.0                 3.0                    2.0         129.0   \n",
       "2       115.0                72.0                   43.0         411.0   \n",
       "3       435.0               367.0                   68.0         255.0   \n",
       "4       501.0               451.0                   50.0         103.0   \n",
       "\n",
       "   OfficiallyDivorced  NonOfficialylDivorced  Widow  Divorced  \n",
       "0                 NaN                    NaN    NaN       NaN  \n",
       "1                 NaN                    1.0    NaN       NaN  \n",
       "2                 4.0                    1.0    NaN       5.0  \n",
       "3                23.0                   12.0    NaN      35.0  \n",
       "4                60.0                   18.0    2.0      78.0  "
      ]
     },
     "execution_count": 2,
     "metadata": {},
     "output_type": "execute_result"
    }
   ],
   "source": [
    "census = pd.read_excel(\"PopulationСensus2015.xlsx\")\n",
    "census[\"Divorced\"] = census[\"OfficiallyDivorced\"]+ census[\"NonOfficialylDivorced\"]\n",
    "census.head()\n"
   ]
  },
  {
   "cell_type": "code",
   "execution_count": 3,
   "metadata": {},
   "outputs": [
    {
     "data": {
      "text/html": [
       "<div>\n",
       "<style scoped>\n",
       "    .dataframe tbody tr th:only-of-type {\n",
       "        vertical-align: middle;\n",
       "    }\n",
       "\n",
       "    .dataframe tbody tr th {\n",
       "        vertical-align: top;\n",
       "    }\n",
       "\n",
       "    .dataframe thead th {\n",
       "        text-align: right;\n",
       "    }\n",
       "</style>\n",
       "<table border=\"1\" class=\"dataframe\">\n",
       "  <thead>\n",
       "    <tr style=\"text-align: right;\">\n",
       "      <th>Gender</th>\n",
       "      <th>AgeGroup</th>\n",
       "      <th>Женщины</th>\n",
       "      <th>Мужчины</th>\n",
       "      <th>FtM_Ratio</th>\n",
       "    </tr>\n",
       "  </thead>\n",
       "  <tbody>\n",
       "    <tr>\n",
       "      <th>0</th>\n",
       "      <td>до 16</td>\n",
       "      <td>32</td>\n",
       "      <td>32</td>\n",
       "      <td>0.000000</td>\n",
       "    </tr>\n",
       "    <tr>\n",
       "      <th>1</th>\n",
       "      <td>16 – 17</td>\n",
       "      <td>20394</td>\n",
       "      <td>21280</td>\n",
       "      <td>-0.041635</td>\n",
       "    </tr>\n",
       "    <tr>\n",
       "      <th>2</th>\n",
       "      <td>18 – 19</td>\n",
       "      <td>19650</td>\n",
       "      <td>18625</td>\n",
       "      <td>0.055034</td>\n",
       "    </tr>\n",
       "    <tr>\n",
       "      <th>3</th>\n",
       "      <td>20 – 24</td>\n",
       "      <td>62335</td>\n",
       "      <td>59827</td>\n",
       "      <td>0.041921</td>\n",
       "    </tr>\n",
       "    <tr>\n",
       "      <th>4</th>\n",
       "      <td>25 – 29</td>\n",
       "      <td>91815</td>\n",
       "      <td>89738</td>\n",
       "      <td>0.023145</td>\n",
       "    </tr>\n",
       "    <tr>\n",
       "      <th>5</th>\n",
       "      <td>30 – 34</td>\n",
       "      <td>90924</td>\n",
       "      <td>87215</td>\n",
       "      <td>0.042527</td>\n",
       "    </tr>\n",
       "    <tr>\n",
       "      <th>6</th>\n",
       "      <td>35 – 39</td>\n",
       "      <td>87902</td>\n",
       "      <td>78813</td>\n",
       "      <td>0.115324</td>\n",
       "    </tr>\n",
       "    <tr>\n",
       "      <th>7</th>\n",
       "      <td>40 – 44</td>\n",
       "      <td>83339</td>\n",
       "      <td>72834</td>\n",
       "      <td>0.144232</td>\n",
       "    </tr>\n",
       "    <tr>\n",
       "      <th>8</th>\n",
       "      <td>45 – 49</td>\n",
       "      <td>76857</td>\n",
       "      <td>67158</td>\n",
       "      <td>0.144421</td>\n",
       "    </tr>\n",
       "    <tr>\n",
       "      <th>9</th>\n",
       "      <td>50 – 59</td>\n",
       "      <td>198543</td>\n",
       "      <td>154459</td>\n",
       "      <td>0.285409</td>\n",
       "    </tr>\n",
       "    <tr>\n",
       "      <th>10</th>\n",
       "      <td>60 – 69</td>\n",
       "      <td>169670</td>\n",
       "      <td>111533</td>\n",
       "      <td>0.521254</td>\n",
       "    </tr>\n",
       "    <tr>\n",
       "      <th>11</th>\n",
       "      <td>70 – 79</td>\n",
       "      <td>102094</td>\n",
       "      <td>43843</td>\n",
       "      <td>1.328627</td>\n",
       "    </tr>\n",
       "    <tr>\n",
       "      <th>12</th>\n",
       "      <td>&gt;= 80</td>\n",
       "      <td>55077</td>\n",
       "      <td>16710</td>\n",
       "      <td>2.296050</td>\n",
       "    </tr>\n",
       "  </tbody>\n",
       "</table>\n",
       "</div>"
      ],
      "text/plain": [
       "Gender AgeGroup  Женщины  Мужчины  FtM_Ratio\n",
       "0         до 16       32       32   0.000000\n",
       "1       16 – 17    20394    21280  -0.041635\n",
       "2       18 – 19    19650    18625   0.055034\n",
       "3       20 – 24    62335    59827   0.041921\n",
       "4       25 – 29    91815    89738   0.023145\n",
       "5       30 – 34    90924    87215   0.042527\n",
       "6       35 – 39    87902    78813   0.115324\n",
       "7       40 – 44    83339    72834   0.144232\n",
       "8       45 – 49    76857    67158   0.144421\n",
       "9       50 – 59   198543   154459   0.285409\n",
       "10      60 – 69   169670   111533   0.521254\n",
       "11      70 – 79   102094    43843   1.328627\n",
       "12        >= 80    55077    16710   2.296050"
      ]
     },
     "execution_count": 3,
     "metadata": {},
     "output_type": "execute_result"
    }
   ],
   "source": [
    "by_district_age = census.pivot_table(columns=\"Gender\", index=[\"AgeGroup\"], values=\"TotalRespondents\", aggfunc=\"sum\", fill_value = 0).applymap(int)\n",
    "by_district_age[\"FtM_Ratio\"] = (by_district_age[\"Женщины\"] / by_district_age[\"Мужчины\"])-1\n",
    "by_district_age.reset_index(inplace=True)\n",
    "by_district_age"
   ]
  },
  {
   "cell_type": "code",
   "execution_count": 4,
   "metadata": {},
   "outputs": [
    {
     "data": {
      "text/plain": [
       "[Text(0, 0.5, 'Возрастная группа'), Text(0.5, 0, 'Соотношенеи ( ж / м ) - 1')]"
      ]
     },
     "execution_count": 4,
     "metadata": {},
     "output_type": "execute_result"
    },
    {
     "data": {
      "image/png": "[encoded data removed]",
      "text/plain": [
       "<Figure size 432x288 with 1 Axes>"
      ]
     },
     "metadata": {
      "needs_background": "light"
     },
     "output_type": "display_data"
    }
   ],
   "source": [
    "g = sns.barplot(y=\"AgeGroup\",x=\"FtM_Ratio\",  data=by_district_age)\n",
    "g.set_title(\"Соотношение кол-ва женщин и мужчин \\n в разных возрастных группах\")\n",
    "g.set(xlabel='Соотношенеи ( ж / м ) - 1', ylabel=\"Возрастная группа\")"
   ]
  },
  {
   "cell_type": "code",
   "execution_count": 5,
   "metadata": {},
   "outputs": [
    {
     "data": {
      "text/html": [
       "<div>\n",
       "<style scoped>\n",
       "    .dataframe tbody tr th:only-of-type {\n",
       "        vertical-align: middle;\n",
       "    }\n",
       "\n",
       "    .dataframe tbody tr th {\n",
       "        vertical-align: top;\n",
       "    }\n",
       "\n",
       "    .dataframe thead th {\n",
       "        text-align: right;\n",
       "    }\n",
       "</style>\n",
       "<table border=\"1\" class=\"dataframe\">\n",
       "  <thead>\n",
       "    <tr style=\"text-align: right;\">\n",
       "      <th>Gender</th>\n",
       "      <th>Женщины</th>\n",
       "      <th>Мужчины</th>\n",
       "    </tr>\n",
       "    <tr>\n",
       "      <th>AgeGroup</th>\n",
       "      <th></th>\n",
       "      <th></th>\n",
       "    </tr>\n",
       "  </thead>\n",
       "  <tbody>\n",
       "    <tr>\n",
       "      <th>до 16</th>\n",
       "      <td>32</td>\n",
       "      <td>32</td>\n",
       "    </tr>\n",
       "    <tr>\n",
       "      <th>16 – 17</th>\n",
       "      <td>20394</td>\n",
       "      <td>21280</td>\n",
       "    </tr>\n",
       "    <tr>\n",
       "      <th>18 – 19</th>\n",
       "      <td>19650</td>\n",
       "      <td>18625</td>\n",
       "    </tr>\n",
       "    <tr>\n",
       "      <th>20 – 24</th>\n",
       "      <td>62335</td>\n",
       "      <td>59827</td>\n",
       "    </tr>\n",
       "    <tr>\n",
       "      <th>25 – 29</th>\n",
       "      <td>91815</td>\n",
       "      <td>89738</td>\n",
       "    </tr>\n",
       "    <tr>\n",
       "      <th>30 – 34</th>\n",
       "      <td>90924</td>\n",
       "      <td>87215</td>\n",
       "    </tr>\n",
       "    <tr>\n",
       "      <th>35 – 39</th>\n",
       "      <td>87902</td>\n",
       "      <td>78813</td>\n",
       "    </tr>\n",
       "    <tr>\n",
       "      <th>40 – 44</th>\n",
       "      <td>83339</td>\n",
       "      <td>72834</td>\n",
       "    </tr>\n",
       "    <tr>\n",
       "      <th>45 – 49</th>\n",
       "      <td>76857</td>\n",
       "      <td>67158</td>\n",
       "    </tr>\n",
       "    <tr>\n",
       "      <th>50 – 59</th>\n",
       "      <td>198543</td>\n",
       "      <td>154459</td>\n",
       "    </tr>\n",
       "    <tr>\n",
       "      <th>60 – 69</th>\n",
       "      <td>169670</td>\n",
       "      <td>111533</td>\n",
       "    </tr>\n",
       "    <tr>\n",
       "      <th>70 – 79</th>\n",
       "      <td>102094</td>\n",
       "      <td>43843</td>\n",
       "    </tr>\n",
       "    <tr>\n",
       "      <th>&gt;= 80</th>\n",
       "      <td>55077</td>\n",
       "      <td>16710</td>\n",
       "    </tr>\n",
       "  </tbody>\n",
       "</table>\n",
       "</div>"
      ],
      "text/plain": [
       "Gender    Женщины  Мужчины\n",
       "AgeGroup                  \n",
       " до 16         32       32\n",
       "16 – 17     20394    21280\n",
       "18 – 19     19650    18625\n",
       "20 – 24     62335    59827\n",
       "25 – 29     91815    89738\n",
       "30 – 34     90924    87215\n",
       "35 – 39     87902    78813\n",
       "40 – 44     83339    72834\n",
       "45 – 49     76857    67158\n",
       "50 – 59    198543   154459\n",
       "60 – 69    169670   111533\n",
       "70 – 79    102094    43843\n",
       ">= 80       55077    16710"
      ]
     },
     "execution_count": 5,
     "metadata": {},
     "output_type": "execute_result"
    }
   ],
   "source": [
    "by_gender_age = census.pivot_table(columns=[\"Gender\"], index = [\"AgeGroup\"], values=\"TotalRespondents\", aggfunc=\"sum\")\n",
    "by_gender_age"
   ]
  },
  {
   "cell_type": "code",
   "execution_count": 6,
   "metadata": {},
   "outputs": [
    {
     "data": {
      "text/plain": [
       "array([<matplotlib.axes._subplots.AxesSubplot object at 0x000002342CDDD8D0>,\n",
       "       <matplotlib.axes._subplots.AxesSubplot object at 0x000002342CE3D860>],\n",
       "      dtype=object)"
      ]
     },
     "execution_count": 6,
     "metadata": {},
     "output_type": "execute_result"
    },
    {
     "data": {
      "image/png": "[encoded data removed]",
      "text/plain": [
       "<Figure size 432x288 with 2 Axes>"
      ]
     },
     "metadata": {
      "needs_background": "light"
     },
     "output_type": "display_data"
    }
   ],
   "source": [
    "by_gender_age.plot(kind=\"bar\",subplots =True)"
   ]
  },
  {
   "cell_type": "code",
   "execution_count": 7,
   "metadata": {},
   "outputs": [
    {
     "data": {
      "text/html": [
       "<div>\n",
       "<style scoped>\n",
       "    .dataframe tbody tr th:only-of-type {\n",
       "        vertical-align: middle;\n",
       "    }\n",
       "\n",
       "    .dataframe tbody tr th {\n",
       "        vertical-align: top;\n",
       "    }\n",
       "\n",
       "    .dataframe thead th {\n",
       "        text-align: right;\n",
       "    }\n",
       "</style>\n",
       "<table border=\"1\" class=\"dataframe\">\n",
       "  <thead>\n",
       "    <tr style=\"text-align: right;\">\n",
       "      <th>CityOrRural</th>\n",
       "      <th>Городское население</th>\n",
       "      <th>Сельское население</th>\n",
       "    </tr>\n",
       "    <tr>\n",
       "      <th>AgeGroup</th>\n",
       "      <th></th>\n",
       "      <th></th>\n",
       "    </tr>\n",
       "  </thead>\n",
       "  <tbody>\n",
       "    <tr>\n",
       "      <th>до 16</th>\n",
       "      <td>52</td>\n",
       "      <td>12</td>\n",
       "    </tr>\n",
       "    <tr>\n",
       "      <th>16 – 17</th>\n",
       "      <td>26770</td>\n",
       "      <td>14904</td>\n",
       "    </tr>\n",
       "    <tr>\n",
       "      <th>18 – 19</th>\n",
       "      <td>25899</td>\n",
       "      <td>12376</td>\n",
       "    </tr>\n",
       "    <tr>\n",
       "      <th>20 – 24</th>\n",
       "      <td>84684</td>\n",
       "      <td>37478</td>\n",
       "    </tr>\n",
       "    <tr>\n",
       "      <th>25 – 29</th>\n",
       "      <td>129545</td>\n",
       "      <td>52008</td>\n",
       "    </tr>\n",
       "    <tr>\n",
       "      <th>30 – 34</th>\n",
       "      <td>127373</td>\n",
       "      <td>50766</td>\n",
       "    </tr>\n",
       "    <tr>\n",
       "      <th>35 – 39</th>\n",
       "      <td>117711</td>\n",
       "      <td>49004</td>\n",
       "    </tr>\n",
       "    <tr>\n",
       "      <th>40 – 44</th>\n",
       "      <td>107623</td>\n",
       "      <td>48550</td>\n",
       "    </tr>\n",
       "    <tr>\n",
       "      <th>45 – 49</th>\n",
       "      <td>95142</td>\n",
       "      <td>48873</td>\n",
       "    </tr>\n",
       "    <tr>\n",
       "      <th>50 – 59</th>\n",
       "      <td>226009</td>\n",
       "      <td>126993</td>\n",
       "    </tr>\n",
       "    <tr>\n",
       "      <th>60 – 69</th>\n",
       "      <td>190987</td>\n",
       "      <td>90216</td>\n",
       "    </tr>\n",
       "    <tr>\n",
       "      <th>70 – 79</th>\n",
       "      <td>98704</td>\n",
       "      <td>47233</td>\n",
       "    </tr>\n",
       "    <tr>\n",
       "      <th>&gt;= 80</th>\n",
       "      <td>46411</td>\n",
       "      <td>25376</td>\n",
       "    </tr>\n",
       "  </tbody>\n",
       "</table>\n",
       "</div>"
      ],
      "text/plain": [
       "CityOrRural  Городское население  Сельское население\n",
       "AgeGroup                                            \n",
       " до 16                        52                  12\n",
       "16 – 17                    26770               14904\n",
       "18 – 19                    25899               12376\n",
       "20 – 24                    84684               37478\n",
       "25 – 29                   129545               52008\n",
       "30 – 34                   127373               50766\n",
       "35 – 39                   117711               49004\n",
       "40 – 44                   107623               48550\n",
       "45 – 49                    95142               48873\n",
       "50 – 59                   226009              126993\n",
       "60 – 69                   190987               90216\n",
       "70 – 79                    98704               47233\n",
       ">= 80                      46411               25376"
      ]
     },
     "execution_count": 7,
     "metadata": {},
     "output_type": "execute_result"
    }
   ],
   "source": [
    "by_location = census.pivot_table(columns=[\"CityOrRural\"], index = [\"AgeGroup\"], values=\"TotalRespondents\", aggfunc=\"sum\")\n",
    "by_location"
   ]
  },
  {
   "cell_type": "code",
   "execution_count": 8,
   "metadata": {},
   "outputs": [
    {
     "data": {
      "text/plain": [
       "<matplotlib.axes._subplots.AxesSubplot at 0x2342cf4a8d0>"
      ]
     },
     "execution_count": 8,
     "metadata": {},
     "output_type": "execute_result"
    },
    {
     "data": {
      "image/png": "[encoded data removed]",
      "text/plain": [
       "<Figure size 432x288 with 1 Axes>"
      ]
     },
     "metadata": {
      "needs_background": "light"
     },
     "output_type": "display_data"
    }
   ],
   "source": [
    "by_location.plot(kind=\"line\")"
   ]
  },
  {
   "cell_type": "code",
   "execution_count": 9,
   "metadata": {},
   "outputs": [
    {
     "data": {
      "text/html": [
       "<div>\n",
       "<style scoped>\n",
       "    .dataframe tbody tr th:only-of-type {\n",
       "        vertical-align: middle;\n",
       "    }\n",
       "\n",
       "    .dataframe tbody tr th {\n",
       "        vertical-align: top;\n",
       "    }\n",
       "\n",
       "    .dataframe thead th {\n",
       "        text-align: right;\n",
       "    }\n",
       "</style>\n",
       "<table border=\"1\" class=\"dataframe\">\n",
       "  <thead>\n",
       "    <tr style=\"text-align: right;\">\n",
       "      <th></th>\n",
       "      <th>NeverMarried</th>\n",
       "      <th>InMarriage</th>\n",
       "      <th>Divorced</th>\n",
       "      <th>Widow</th>\n",
       "    </tr>\n",
       "    <tr>\n",
       "      <th>AgeGroup</th>\n",
       "      <th></th>\n",
       "      <th></th>\n",
       "      <th></th>\n",
       "      <th></th>\n",
       "    </tr>\n",
       "  </thead>\n",
       "  <tbody>\n",
       "    <tr>\n",
       "      <th>до 16</th>\n",
       "      <td>0.0</td>\n",
       "      <td>61.0</td>\n",
       "      <td>0.0</td>\n",
       "      <td>0.0</td>\n",
       "    </tr>\n",
       "    <tr>\n",
       "      <th>16 – 17</th>\n",
       "      <td>40548.0</td>\n",
       "      <td>740.0</td>\n",
       "      <td>2.0</td>\n",
       "      <td>10.0</td>\n",
       "    </tr>\n",
       "    <tr>\n",
       "      <th>18 – 19</th>\n",
       "      <td>34644.0</td>\n",
       "      <td>3389.0</td>\n",
       "      <td>23.0</td>\n",
       "      <td>17.0</td>\n",
       "    </tr>\n",
       "    <tr>\n",
       "      <th>20 – 24</th>\n",
       "      <td>78673.0</td>\n",
       "      <td>40280.0</td>\n",
       "      <td>2641.0</td>\n",
       "      <td>130.0</td>\n",
       "    </tr>\n",
       "    <tr>\n",
       "      <th>25 – 29</th>\n",
       "      <td>58113.0</td>\n",
       "      <td>110036.0</td>\n",
       "      <td>12462.0</td>\n",
       "      <td>548.0</td>\n",
       "    </tr>\n",
       "  </tbody>\n",
       "</table>\n",
       "</div>"
      ],
      "text/plain": [
       "          NeverMarried  InMarriage  Divorced  Widow\n",
       "AgeGroup                                           \n",
       " до 16             0.0        61.0       0.0    0.0\n",
       "16 – 17        40548.0       740.0       2.0   10.0\n",
       "18 – 19        34644.0      3389.0      23.0   17.0\n",
       "20 – 24        78673.0     40280.0    2641.0  130.0\n",
       "25 – 29        58113.0    110036.0   12462.0  548.0"
      ]
     },
     "execution_count": 9,
     "metadata": {},
     "output_type": "execute_result"
    }
   ],
   "source": [
    "heat_map = census.groupby(\"AgeGroup\").sum().loc[:,[\"NeverMarried\",\"InMarriage\",\"Divorced\",\"Widow\"]]\n",
    "heat_map.head()"
   ]
  },
  {
   "cell_type": "code",
   "execution_count": 10,
   "metadata": {
    "scrolled": true
   },
   "outputs": [
    {
     "data": {
      "text/plain": [
       "<matplotlib.axes._subplots.AxesSubplot at 0x2342cda2748>"
      ]
     },
     "execution_count": 10,
     "metadata": {},
     "output_type": "execute_result"
    },
    {
     "data": {
      "image/png": "[encoded data removed]",
      "text/plain": [
       "<Figure size 432x288 with 1 Axes>"
      ]
     },
     "metadata": {
      "needs_background": "light"
     },
     "output_type": "display_data"
    }
   ],
   "source": [
    "heat_map.plot(kind='bar', rot=45, stacked=True, orientation=\"vertical\")"
   ]
  },
  {
   "cell_type": "code",
   "execution_count": 11,
   "metadata": {},
   "outputs": [
    {
     "data": {
      "image/png": "[encoded data removed]",
      "text/plain": [
       "<Figure size 432x288 with 2 Axes>"
      ]
     },
     "metadata": {
      "needs_background": "light"
     },
     "output_type": "display_data"
    }
   ],
   "source": [
    "ax = sns.heatmap(heat_map, cmap=\"Greens\", square=True)"
   ]
  }
 ],
 "metadata": {
  "kernelspec": {
   "display_name": "Python 3",
   "language": "python",
   "name": "python3"
  },
  "language_info": {
   "codemirror_mode": {
    "name": "ipython",
    "version": 3
   },
   "file_extension": ".py",
   "mimetype": "text/x-python",
   "name": "python",
   "nbconvert_exporter": "python",
   "pygments_lexer": "ipython3",
   "version": "3.7.3"
  }
 },
 "nbformat": 4,
 "nbformat_minor": 2
}
