{
 "cells": [
  {
   "cell_type": "markdown",
   "metadata": {},
   "source": [
    "## Задание 1\n",
    "Дана статистика рекламных каналов по объемам продаж. Напишите скрипт, который возвращает название канала с максимальным объемом.\n",
    "Т. е. в данном примере скрипт должен возвращать “yandex”.\n",
    "```\n",
    "stats = {\"facebook\": 55, \"yandex\": 120, \"vk\": 115, \"google\": 99, \"email\": 42, \"ok\": 98}\n",
    "```"
   ]
  },
  {
   "cell_type": "code",
   "execution_count": 1,
   "metadata": {},
   "outputs": [
    {
     "name": "stdout",
     "output_type": "stream",
     "text": [
      "yandex\n"
     ]
    }
   ],
   "source": [
    "stats = {\"facebook\": 55, \"yandex\": 120, \"vk\": 115, \"google\": 99, \"email\": 42, \"ok\": 98}\n",
    "print(sorted(stats.items(), key=lambda x: -x[1])[0][0])"
   ]
  },
  {
   "cell_type": "markdown",
   "metadata": {},
   "source": [
    "\n",
    "## Задание 2\n",
    "Дан список описаний товаров descriptions:\n",
    "\n",
    "\n",
    "``` \n",
    "descriptions = [\n",
    "[\"браслет\", \"xiaomi\", \"mi\", \"band\", \"2.\", \"умный\", \"браслет\", \"xiaomi\", \"mi\", \"лидер\", \"в\", \"линейке\", \"xiaomi.\", \"фитнес\", \"браслет\", \"для\", \"android\", \"4.4,\", \"ios\", \"7,\", \"экран\", \"oled.\", \"лучший\", \"выбор\", \"xiaomi\"],\n",
    "[\"браслет\", \"huawei\", \"honor\", \"band\", \"3.\", \"фитнес\", \"браслет\", \"влагозащищенный\", \"сенсорный\", \"экран\", \"android,\", \"ios\", \"мониторинг\", \"сна\"],\n",
    "[\"браслет\", \"samsung\", \"gear\", \"fit2\", \"pro.\", \"влагозащищенный\", \"сенсорный\", \"amoled-экран\", \"мониторинг\", \"сна,\", \"калорий,\", \"новинка\", \"samsung\"],\n",
    "]\n",
    "\n",
    "```\n",
    "\n",
    "Есть подозрение, что некоторые описания содержат много дубликатов одних и тех же слов. Т. е. могут быть переоптимизированными. Для каждого описания товара выведите на экран разницу между количеством уникальных слов и общим количеством слов в этом описании.\n"
   ]
  },
  {
   "cell_type": "code",
   "execution_count": 2,
   "metadata": {},
   "outputs": [
    {
     "name": "stdout",
     "output_type": "stream",
     "text": [
      "Описание #0: \n",
      "Уникальных слов: 20; \n",
      "Всего слов: 25; \n",
      "Дублей: 5.\n",
      "\n",
      "Описание #1: \n",
      "Уникальных слов: 13; \n",
      "Всего слов: 14; \n",
      "Дублей: 1.\n",
      "\n",
      "Описание #2: \n",
      "Уникальных слов: 12; \n",
      "Всего слов: 13; \n",
      "Дублей: 1.\n",
      "\n"
     ]
    }
   ],
   "source": [
    "descriptions = [\n",
    "[\"браслет\", \"xiaomi\", \"mi\", \"band\", \"2.\", \"умный\", \"браслет\", \"xiaomi\", \"mi\", \"лидер\", \"в\", \"линейке\", \"xiaomi.\", \"фитнес\", \"браслет\", \"для\", \"android\", \"4.4,\", \"ios\", \"7,\", \"экран\", \"oled.\", \"лучший\", \"выбор\", \"xiaomi\"],\n",
    "[\"браслет\", \"huawei\", \"honor\", \"band\", \"3.\", \"фитнес\", \"браслет\", \"влагозащищенный\", \"сенсорный\", \"экран\", \"android,\", \"ios\", \"мониторинг\", \"сна\"],\n",
    "[\"браслет\", \"samsung\", \"gear\", \"fit2\", \"pro.\", \"влагозащищенный\", \"сенсорный\", \"amoled-экран\", \"мониторинг\", \"сна,\", \"калорий,\", \"новинка\", \"samsung\"],\n",
    "]\n",
    "uniqueItems = [(len(set(x)), len(x)) for x in descriptions]\n",
    "\n",
    "for i,descr in enumerate(uniqueItems):\n",
    "    print(f'Описание #{i}: \\nУникальных слов: {descr[0]}; \\nВсего слов: {descr[1]}; \\nДублей: {descr[1]-descr[0]}.\\n')"
   ]
  },
  {
   "cell_type": "markdown",
   "metadata": {},
   "source": [
    "## Задание 3\n",
    "В примере поиска с помощью кортежей мы использовали 3 столбца. Напишите функцию, которая формирует словарь для поиска по n столбцам."
   ]
  },
  {
   "cell_type": "code",
   "execution_count": 3,
   "metadata": {},
   "outputs": [],
   "source": [
    "def get_n_tuple_dic(filename, n, return_list = False, separator = \",\"):\n",
    "    \"\"\"Создает словарь по первым n элементам из файла filename. \n",
    "    В зависимости от return_list возвращает:\n",
    "    return_list == True: словарь вида \n",
    "        dict(tuple([:n]) : [[n:]]) со всеми подходящими записями\n",
    "    return_list == False:\n",
    "        dict(tuple([:n]) : кол-во подходящих строк) \n",
    "    \n",
    "    filename - имя файла, по которому создается словарь \n",
    "    n - кол-во элементов [:n] для создания ключей словаря\n",
    "    return_type - тип возващаемого словаря\n",
    "    separator - разделитель элементов в строках, \",\" по умолчанию\n",
    "    \n",
    "    \"\"\"\n",
    "    stats_dict = {}\n",
    "    try:\n",
    "        with open(filename) as f:\n",
    "            for line in f:\n",
    "                line = line.strip().split(separator)\n",
    "                curKey = tuple(line[:n])\n",
    "                \n",
    "                # Тип возвращаемого словаря - list элементов с текущим ключем\n",
    "                if return_list:\n",
    "                    if curKey not in stats_dict:\n",
    "                        # Если ключ не найден - запишем первое значение\n",
    "                        stats_dict[curKey] = [line[n:]]\n",
    "                    else:\n",
    "                        # Иначе - допишем значения в конец\n",
    "                        stats_dict[curKey].extend([line[n:]])\n",
    "                \n",
    "                # Тип возвращаемого словаря - кол-во элементов с текущим ключем\n",
    "                else:\n",
    "                    if curKey not in stats_dict:\n",
    "                        # Если ключ не найден - запишем 1\n",
    "                        stats_dict[curKey] = 1\n",
    "                    else:\n",
    "                        # Иначе - увеличим счетчик\n",
    "                        stats_dict[curKey] += 1\n",
    "                        \n",
    "            return stats_dict\n",
    "    except FileNotFoundError:\n",
    "        print(\"File was not found!\")\n",
    "    except:\n",
    "        pass\n"
   ]
  },
  {
   "cell_type": "markdown",
   "metadata": {},
   "source": [
    "### Вопросы\n",
    "Насколько резонно делать возможность вернуть все подходящие элементы в функциях такого типа?\n",
    "- С одной стороны, по ним можно строить циклы, выполняя дополнительные расчеты при необходимости.\n",
    "- С другой сороны, так мы наверное сильно забиваем память?\n",
    "\n",
    "Логично ли объединять в одной функции чтение из файла и создание словаря?  \n",
    "Не имеет ли смысла в данном случае разбить работу на две отдельные функции?"
   ]
  },
  {
   "cell_type": "code",
   "execution_count": 4,
   "metadata": {},
   "outputs": [
    {
     "name": "stdout",
     "output_type": "stream",
     "text": [
      "[['45769']]\n"
     ]
    }
   ],
   "source": [
    "# n = 3, вывод list с подходящими значениямми\n",
    "tuple_to_find = ('12','10350','2')\n",
    "n3_dict = get_n_tuple_dic(\"stats.csv\", len(tuple_to_find), True)\n",
    "print(n3_dict[tuple_to_find])"
   ]
  },
  {
   "cell_type": "code",
   "execution_count": 5,
   "metadata": {},
   "outputs": [
    {
     "name": "stdout",
     "output_type": "stream",
     "text": [
      "[['2', '45769']]\n"
     ]
    }
   ],
   "source": [
    "# n = 2, вывод list с подходящими значениями\n",
    "tuple_to_find = ('12','10350')\n",
    "n2_dict = get_n_tuple_dic(\"stats.csv\", len(tuple_to_find), return_list = True)\n",
    "print(n2_dict[tuple_to_find])"
   ]
  },
  {
   "cell_type": "code",
   "execution_count": 6,
   "metadata": {},
   "outputs": [
    {
     "name": "stdout",
     "output_type": "stream",
     "text": [
      "311\n"
     ]
    }
   ],
   "source": [
    "# n = 1, вывод кол-ва подходящих элементов\n",
    "tuple_to_find = ('12',)\n",
    "n1_dict = get_n_tuple_dic(filename=\"stats.csv\",n = len(tuple_to_find), return_list = False)\n",
    "print(n1_dict[tuple_to_find])"
   ]
  }
 ],
 "metadata": {
  "kernelspec": {
   "display_name": "Python 3",
   "language": "python",
   "name": "python3"
  },
  "language_info": {
   "codemirror_mode": {
    "name": "ipython",
    "version": 3
   },
   "file_extension": ".py",
   "mimetype": "text/x-python",
   "name": "python",
   "nbconvert_exporter": "python",
   "pygments_lexer": "ipython3",
   "version": "3.7.3"
  }
 },
 "nbformat": 4,
 "nbformat_minor": 2
}
