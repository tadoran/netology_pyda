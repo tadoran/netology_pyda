{
 "cells": [
  {
   "cell_type": "markdown",
   "metadata": {},
   "source": [
    "### Задание 1\n",
    "Напишите функцию, которая возвращает название валюты (поле ‘Name’) с максимальным значением курса с помощью сервиса https://www.cbr-xml-daily.ru/daily_json.js\n",
    "\n"
   ]
  },
  {
   "cell_type": "code",
   "execution_count": 1,
   "metadata": {},
   "outputs": [],
   "source": [
    "import requests"
   ]
  },
  {
   "cell_type": "code",
   "execution_count": 2,
   "metadata": {},
   "outputs": [],
   "source": [
    "class Rate:\n",
    "    def __init__(self, format_='value'):\n",
    "        self.format = format_\n",
    "        self.r = None\n",
    "        self.show_difference = False\n",
    "    \n",
    "    def exchange_rates(self):\n",
    "        \"\"\"\n",
    "        Возвращает ответ сервиса с информацией о валютах в виде:\n",
    "        \n",
    "        {\n",
    "            'AMD': {\n",
    "                'CharCode': 'AMD',\n",
    "                'ID': 'R01060',\n",
    "                'Name': 'Армянских драмов',\n",
    "                'Nominal': 100,\n",
    "                'NumCode': '051',\n",
    "                'Previous': 14.103,\n",
    "                'Value': 14.0879\n",
    "                },\n",
    "            ...\n",
    "        }\n",
    "        \"\"\"\n",
    "        if self.r is None: \n",
    "            self.r = self.get_data()\n",
    "        \n",
    "        return self.r.json()['Valute']\n",
    "    \n",
    "    def get_data(self):\n",
    "        return requests.get('https://www.cbr-xml-daily.ru/daily_json.js')\n",
    "        \n",
    "    def make_format(self, currency):\n",
    "        \"\"\"\n",
    "        Возвращает информацию о валюте currency в двух вариантах:\n",
    "        - полная информация о валюте при self.format = 'full':\n",
    "        Rate('full').make_format('EUR')\n",
    "        {\n",
    "            'CharCode': 'EUR',\n",
    "            'ID': 'R01239',\n",
    "            'Name': 'Евро',\n",
    "            'Nominal': 1,\n",
    "            'NumCode': '978',\n",
    "            'Previous': 79.6765,\n",
    "            'Value': 79.4966\n",
    "        }\n",
    "        \n",
    "        Rate('value').make_format('EUR')\n",
    "        79.4966\n",
    "        \"\"\"\n",
    "        response = self.exchange_rates()\n",
    "        \n",
    "        if currency in response:\n",
    "            if self.format == 'full':\n",
    "                return response[currency]\n",
    "            \n",
    "            if self.show_difference and currency in [\"EUR\",\"USD\"]:\n",
    "                return response[currency]['Value'] - response[currency]['Previous']\n",
    "            elif self.format == 'value':\n",
    "                return response[currency]['Value']\n",
    "        \n",
    "        return 'Error'\n",
    "    \n",
    "    def diff(self, show_difference):\n",
    "        self.show_difference = show_difference\n",
    "        return self\n",
    "        \n",
    "    def eur(self):\n",
    "        \"\"\"Возвращает курс евро на сегодня в формате self.format\"\"\"\n",
    "        return self.make_format('EUR')\n",
    "    \n",
    "    def usd(self):\n",
    "        \"\"\"Возвращает курс доллара на сегодня в формате self.format\"\"\"\n",
    "        return self.make_format('USD')\n",
    "    \n",
    "    def brl(self):\n",
    "        \"\"\"Возвращает курс бразильского реала на сегодня в формате self.format\"\"\"\n",
    "        return self.make_format('BRL')\n",
    "    \n",
    "    def get_max_rate_currency(self):\n",
    "        currencyRates = {currency[1][\"Value\"]:currency[1][\"Name\"] for currency in self.exchange_rates().items()}\n",
    "        return currencyRates[max(currencyRates.keys())]"
   ]
  },
  {
   "cell_type": "markdown",
   "metadata": {},
   "source": [
    "#### см. ниже"
   ]
  },
  {
   "cell_type": "markdown",
   "metadata": {},
   "source": [
    "### Задание 2\n",
    "Добавьте в класс Rate параметр diff (со значениями True или False), который в случае значения True в методах eur и usd будет возвращать не курс валюты, а изменение по сравнению в прошлым значением. Считайте, self.diff будет принимать значение True только при возврате значения курса. При отображении всей информации о валюте он не используется.\n",
    "\n"
   ]
  },
  {
   "cell_type": "code",
   "execution_count": 3,
   "metadata": {},
   "outputs": [],
   "source": [
    "rateObj = Rate()"
   ]
  },
  {
   "cell_type": "code",
   "execution_count": 4,
   "metadata": {},
   "outputs": [
    {
     "name": "stdout",
     "output_type": "stream",
     "text": [
      "Курс Евро: 71.1918\n",
      "Изменение курса Евро: 0.18370000000000175\n",
      "Максимальный курс - у Датских крон\n",
      "Полные данные по Евро: {'ID': 'R01239', 'NumCode': '978', 'CharCode': 'EUR', 'Nominal': 1, 'Name': 'Евро', 'Value': 71.1918, 'Previous': 71.0081}\n"
     ]
    }
   ],
   "source": [
    "print(\"Курс Евро:\", rateObj.eur())\n",
    "print(\"Изменение курса Евро:\",rateObj.diff(True).eur())\n",
    "print(\"Максимальный курс - у\",rateObj.get_max_rate_currency())\n",
    "\n",
    "rateObj.format = \"full\"\n",
    "print(\"Полные данные по Евро:\",rateObj.make_format(\"EUR\"))"
   ]
  },
  {
   "cell_type": "code",
   "execution_count": 5,
   "metadata": {},
   "outputs": [
    {
     "name": "stdout",
     "output_type": "stream",
     "text": [
      "Курс бразильского реала: 15.9925\n",
      "Изменение в diff не влияет на Бразильсктй Реал:  15.9925\n",
      "Полные данные по бразильскому Реалу: {'ID': 'R01115', 'NumCode': '986', 'CharCode': 'BRL', 'Nominal': 1, 'Name': 'Бразильский реал', 'Value': 15.9925, 'Previous': 15.9759}\n"
     ]
    }
   ],
   "source": [
    "rateObj.format = \"value\"\n",
    "print(\"Курс бразильского реала:\", rateObj.brl())\n",
    "print(\"Изменение в diff не влияет на Бразильсктй Реал: \",rateObj.diff(True).brl())\n",
    "\n",
    "rateObj.format = \"full\"\n",
    "print(\"Полные данные по бразильскому Реалу:\",rateObj.make_format(\"BRL\"))"
   ]
  },
  {
   "cell_type": "markdown",
   "metadata": {},
   "source": [
    "### Задание 3\n",
    "Напишите класс Designer, который учитывает количество международных премий. Подсказки в коде занятия в разделе “Домашнее задание задача 3”."
   ]
  },
  {
   "cell_type": "code",
   "execution_count": 6,
   "metadata": {},
   "outputs": [],
   "source": [
    "class Employee:\n",
    "    def __init__(self, name, seniority):\n",
    "        self.name = name\n",
    "        self.seniority = seniority\n",
    "        \n",
    "        self.grade = 1\n",
    "    \n",
    "    def grade_up(self):\n",
    "        \"\"\"Повышает уровень сотрудника\"\"\"\n",
    "        self.grade += 1\n",
    "    \n",
    "    def publish_grade(self):\n",
    "        \"\"\"Публикация результатов аккредитации сотрудников\"\"\"\n",
    "        print(self.name, self.grade)"
   ]
  },
  {
   "cell_type": "code",
   "execution_count": 7,
   "metadata": {},
   "outputs": [],
   "source": [
    "class Developer(Employee):\n",
    "    def __init__(self, name, seniority):\n",
    "        super().__init__(name, seniority)\n",
    "    \n",
    "    def check_if_it_is_time_for_upgrade(self):\n",
    "        # для каждой аккредитации увеличиваем счетчик на 1\n",
    "        # пока считаем, что все разработчики проходят аккредитацию\n",
    "        self.seniority += 1\n",
    "        \n",
    "        # условие повышения сотрудника из презентации\n",
    "        if self.seniority % 5 == 0:\n",
    "            self.grade_up()\n",
    "        \n",
    "        # публикация результатов\n",
    "        return self.publish_grade()"
   ]
  },
  {
   "cell_type": "markdown",
   "metadata": {},
   "source": [
    "#### Класс Designer"
   ]
  },
  {
   "cell_type": "code",
   "execution_count": 8,
   "metadata": {},
   "outputs": [],
   "source": [
    "class Designer(Employee):\n",
    "    def __init__(self, name, seniority, awards):\n",
    "        super().__init__(name, seniority)\n",
    "        self.awards = awards\n",
    "    \n",
    "    def check_if_it_is_time_for_upgrade(self):\n",
    "        # для каждой аккредитации увеличиваем счетчик на 1\n",
    "        # пока считаем, что все разработчики проходят аккредитацию\n",
    "        self.seniority += 1\n",
    "        \n",
    "        if (self.seniority + (self.awards*2)) % 7 == 0:\n",
    "            self.grade_up()\n",
    "        \n",
    "        return self.publish_grade()\n",
    "    \n",
    "    def recieved_award(self):\n",
    "        self.awards += 1\n",
    "        print(self.name, ' recieved international award!')"
   ]
  },
  {
   "cell_type": "code",
   "execution_count": 9,
   "metadata": {},
   "outputs": [],
   "source": [
    "elena = Designer('Елена', seniority=0, awards=2)\n",
    "roberto = Designer(\"Роберто\", seniority=0, awards=0)"
   ]
  },
  {
   "cell_type": "code",
   "execution_count": 10,
   "metadata": {},
   "outputs": [
    {
     "name": "stdout",
     "output_type": "stream",
     "text": [
      "\n",
      "# 0\n",
      "Елена 1\n",
      "Роберто 1\n",
      "\n",
      "# 1\n",
      "Елена 1\n",
      "Роберто 1\n",
      "\n",
      "# 2\n",
      "Роберто  recieved international award!\n",
      "Елена 2\n",
      "Роберто 1\n",
      "\n",
      "# 3\n",
      "Елена 2\n",
      "Роберто 1\n",
      "\n",
      "# 4\n",
      "Елена  recieved international award!\n",
      "Роберто  recieved international award!\n",
      "Елена 2\n",
      "Роберто 1\n",
      "\n",
      "# 5\n",
      "Елена 2\n",
      "Роберто 1\n",
      "\n",
      "# 6\n",
      "Роберто  recieved international award!\n",
      "Елена 2\n",
      "Роберто 1\n",
      "\n",
      "# 7\n",
      "Елена 3\n",
      "Роберто 2\n",
      "\n",
      "# 8\n",
      "Елена  recieved international award!\n",
      "Роберто  recieved international award!\n",
      "Елена 3\n",
      "Роберто 2\n",
      "\n",
      "# 9\n",
      "Елена 3\n",
      "Роберто 2\n",
      "\n",
      "# 10\n",
      "Роберто  recieved international award!\n",
      "Елена 3\n",
      "Роберто 3\n",
      "\n",
      "# 11\n",
      "Елена 3\n",
      "Роберто 3\n",
      "\n",
      "# 12\n",
      "Елена  recieved international award!\n",
      "Роберто  recieved international award!\n",
      "Елена 3\n",
      "Роберто 3\n",
      "\n",
      "# 13\n",
      "Елена 3\n",
      "Роберто 3\n",
      "\n",
      "# 14\n",
      "Роберто  recieved international award!\n",
      "Елена 3\n",
      "Роберто 3\n",
      "\n",
      "# 15\n",
      "Елена 3\n",
      "Роберто 3\n",
      "\n",
      "# 16\n",
      "Елена  recieved international award!\n",
      "Роберто  recieved international award!\n",
      "Елена 3\n",
      "Роберто 3\n",
      "\n",
      "# 17\n",
      "Елена 3\n",
      "Роберто 3\n",
      "\n",
      "# 18\n",
      "Роберто  recieved international award!\n",
      "Елена 3\n",
      "Роберто 3\n",
      "\n",
      "# 19\n",
      "Елена 3\n",
      "Роберто 3\n"
     ]
    }
   ],
   "source": [
    "for step in range(20):\n",
    "    print(\"\\n#\", step)\n",
    "    if step > 0:\n",
    "        if step % 4 == 0: elena.recieved_award()\n",
    "        if step % 2 == 0: roberto.recieved_award() # Робертно явно очень талантлив...\n",
    "    elena.check_if_it_is_time_for_upgrade()\n",
    "    roberto.check_if_it_is_time_for_upgrade()"
   ]
  }
 ],
 "metadata": {
  "kernelspec": {
   "display_name": "Python 3",
   "language": "python",
   "name": "python3"
  },
  "language_info": {
   "codemirror_mode": {
    "name": "ipython",
    "version": 3
   },
   "file_extension": ".py",
   "mimetype": "text/x-python",
   "name": "python",
   "nbconvert_exporter": "python",
   "pygments_lexer": "ipython3",
   "version": "3.7.3"
  }
 },
 "nbformat": 4,
 "nbformat_minor": 2
}
