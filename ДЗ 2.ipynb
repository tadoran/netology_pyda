{
 "cells": [
  {
   "cell_type": "markdown",
   "metadata": {},
   "source": [
    "## Задание 1\n",
    "\n",
    "Дан список с визитами по городам и странам. Напишите код, который возвращает отфильтрованный список geo_logs, содержащий только визиты из России. Считайте, что список geo_logs легко помещается в оперативной памяти.\n",
    "```geo_logs = [\n",
    "[‘visit1’, [‘Москва’, ‘Россия’]],\n",
    "[‘visit2’, [‘Дели’, ‘Индия’]],\n",
    "[‘visit3’, [‘Владимир’, ‘Россия’]],\n",
    "[‘visit4’, [‘Лиссабон’, ‘Португалия’]],\n",
    "[‘visit5’, [‘Париж’, ‘Франция’]],\n",
    "[‘visit6’, [‘Лиссабон’, ‘Португалия’]],\n",
    "[‘visit7’, [‘Тула’, ‘Россия’]],\n",
    "[‘visit8’, [‘Тула’, ‘Россия’]],\n",
    "[‘visit9’, [‘Курск’, ‘Россия’]],\n",
    "[‘visit10’, [‘Архангельск’, ‘Россия’]],\n",
    "]```"
   ]
  },
  {
   "cell_type": "code",
   "execution_count": 1,
   "metadata": {},
   "outputs": [
    {
     "data": {
      "text/plain": [
       "[['visit1', ['Москва', 'Россия']],\n",
       " ['visit3', ['Владимир', 'Россия']],\n",
       " ['visit7', ['Тула', 'Россия']],\n",
       " ['visit8', ['Тула', 'Россия']],\n",
       " ['visit9', ['Курск', 'Россия']],\n",
       " ['visit10', ['Архангельск', 'Россия']]]"
      ]
     },
     "execution_count": 1,
     "metadata": {},
     "output_type": "execute_result"
    }
   ],
   "source": [
    "geo_logs = [\n",
    "            [\"visit1\", [\"Москва\", \"Россия\"]],\n",
    "            [\"visit2\", [\"Дели\", \"Индия\"]],\n",
    "            [\"visit3\", [\"Владимир\", \"Россия\"]],\n",
    "            [\"visit4\", [\"Лиссабон\", \"Португалия\"]],\n",
    "            [\"visit5\", [\"Париж\", \"Франция\"]],\n",
    "            [\"visit6\", [\"Лиссабон\", \"Португалия\"]],\n",
    "            [\"visit7\", [\"Тула\", \"Россия\"]],\n",
    "            [\"visit8\", [\"Тула\", \"Россия\"]],\n",
    "            [\"visit9\", [\"Курск\", \"Россия\"]],\n",
    "            [\"visit10\", [\"Архангельск\", \"Россия\"]],\n",
    "           ]\n",
    "\n",
    "for visit in geo_logs[::-1]:\n",
    "    if visit[1][1] != \"Россия\":\n",
    "        geo_logs.remove(visit)\n",
    "geo_logs"
   ]
  },
  {
   "cell_type": "markdown",
   "metadata": {},
   "source": [
    "## Задание 2\n",
    "\n",
    "Выведите на экран все уникальные гео-ID из списка координат ids.  \n",
    "Т. е. список вида  \n",
    "```[213, 15, 54, 119, 98, 35]```\n",
    "\n",
    "\n",
    "```ids = [[‘user1’, [213, 213, 213, 15, 213]], [‘user2’, [54, 54, 119, 119, 119]], [‘user3’, [213, 98, 98, 35]]]```"
   ]
  },
  {
   "cell_type": "code",
   "execution_count": 2,
   "metadata": {},
   "outputs": [
    {
     "data": {
      "text/plain": [
       "[213, 15, 54, 119, 98, 35]"
      ]
     },
     "execution_count": 2,
     "metadata": {},
     "output_type": "execute_result"
    }
   ],
   "source": [
    "ids = [\n",
    "        [\"user1\", [213, 213, 213, 15, 213]], \n",
    "        [\"user2\", [54, 54, 119, 119, 119]], \n",
    "        [\"user3\", [213, 98, 98, 35]]\n",
    "      ]\n",
    "allGeoIds = []\n",
    "for user in ids:\n",
    "    allGeoIds += user[1]\n",
    "\n",
    "# https://www.w3schools.com/python/python_howto_remove_duplicates.asp\n",
    "list(dict.fromkeys(allGeoIds))"
   ]
  },
  {
   "cell_type": "markdown",
   "metadata": {},
   "source": [
    "## Задание 3\n",
    "Список поисковых запросов. Получить распределение количества слов в них.  \n",
    "Т. е. поисковых запросов из одного слова 5%, из двух - 7%, из трех - 3% итд.\n",
    "\n",
    "``` queries = [\n",
    "‘смотреть сериалы онлайн’,\n",
    "‘новости спорта’,\n",
    "‘афиша кино’,\n",
    "‘курс доллара’,\n",
    "‘сериалы этим летом’,\n",
    "‘курс по питону’,\n",
    "‘сериалы про спорт’,\n",
    "]```"
   ]
  },
  {
   "cell_type": "code",
   "execution_count": 3,
   "metadata": {},
   "outputs": [
    {
     "name": "stdout",
     "output_type": "stream",
     "text": [
      "Поисковых запросов с 3 словами: 57%\n",
      "Поисковых запросов с 2 словами: 43%\n"
     ]
    }
   ],
   "source": [
    "queries = [\n",
    "            \"смотреть сериалы онлайн\",\n",
    "            \"новости спорта\",\n",
    "            \"афиша кино\",\n",
    "            \"курс доллара\",\n",
    "            \"сериалы этим летом\",\n",
    "            \"курс по питону\",\n",
    "            \"сериалы про спорт\",\n",
    "          ]\n",
    "\n",
    "\n",
    "# Создадим словарь, ключ - кол-во слов, значение - кол-во таких запросов\n",
    "wordsCountList = {}\n",
    "for query in queries:\n",
    "    curQueryWordsCount = len(query.split(\" \"))\n",
    "    # Если в словаре еще нет элемента с таким кол-вом слов - создадим\n",
    "    if str(curQueryWordsCount) not in wordsCountList:\n",
    "        wordsCountList[str(curQueryWordsCount)] = 0\n",
    "    # Увеличим итератов в соответствующем элементе словаря\n",
    "    wordsCountList[str(curQueryWordsCount)] = wordsCountList[str(curQueryWordsCount)]  + 1\n",
    "\n",
    "# Для каждого элеента словаря выведем комментарий\n",
    "for wordCount, count in wordsCountList.items():\n",
    "    occurancePercent = count / len(queries)\n",
    "    print(f'Поисковых запросов с {wordCount} словами: {occurancePercent:.0%}')"
   ]
  },
  {
   "cell_type": "markdown",
   "metadata": {},
   "source": [
    "## Задание 4 (бонусное)\n",
    "Дан поток логов по количеству просмотренных страниц для каждого пользователя.  \n",
    "Список отсортирован по ID пользователя.  \n",
    "Вам необходимо написать алгоритм, который считает среднее значение просмотров на пользователя.  \n",
    "Т. е. надо посчитать отношение суммы всех просмотров к количеству уникальных пользователей.   \n",
    "Учтите, что весь список stream не помещается в оперативную память, т. е. его нужно обрабатывать поэлементно в цикле.  \n",
    "```stream = [\n",
    "‘2018-01-01,user1,3’,\n",
    "‘2018-01-07,user1,4’,\n",
    "‘2018-03-29,user1,1’,\n",
    "‘2018-04-04,user1,13’,\n",
    "‘2018-01-05,user2,7’,\n",
    "‘2018-06-14,user3,4’,\n",
    "‘2018-07-02,user3,10’,\n",
    "‘2018-03-21,user4,19’,\n",
    "‘2018-03-22,user4,4’,\n",
    "‘2018-04-22,user4,8’,\n",
    "‘2018-05-03,user4,9’,\n",
    "‘2018-05-11,user4,11’,\n",
    "]```"
   ]
  },
  {
   "cell_type": "code",
   "execution_count": 4,
   "metadata": {},
   "outputs": [
    {
     "name": "stdout",
     "output_type": "stream",
     "text": [
      "На одного пользователя в среднем приходится 10.25 просмотра.\n"
     ]
    }
   ],
   "source": [
    "stream = [\n",
    "        \"2018-01-01,user1,3\",\n",
    "        \"2018-01-07,user1,4\",\n",
    "        \"2018-03-29,user1,1\",\n",
    "        \"2018-04-04,user1,13\",\n",
    "        \"2018-01-05,user2,7\",\n",
    "        \"2018-06-14,user3,4\",\n",
    "        \"2018-07-02,user3,10\",\n",
    "        \"2018-03-21,user4,19\",\n",
    "        \"2018-03-22,user4,4\",\n",
    "        \"2018-04-22,user4,8\",\n",
    "        \"2018-05-03,user4,9\",\n",
    "        \"2018-05-11,user4,11\",\n",
    "        ]\n",
    "\n",
    "# Создадим словарь, ключ - идентификатор пользователя, значение - количество просмотров\n",
    "usersDic = {}\n",
    "\n",
    "for logEntry in stream:\n",
    "    curEntryList = logEntry.split(\",\")\n",
    "    # Если в словаре еще нет элемента с таким кол-вом слов - создадим\n",
    "    if curEntryList[2] not in usersDic:\n",
    "        usersDic[curEntryList[1]]  = 0\n",
    "    \n",
    "    # Добавим кол-во просмотров из текущей строки\n",
    "    usersDic[curEntryList[1]] += int(curEntryList[2])\n",
    "\n",
    "# Общее кол-во просмотров = сумма всех просмотров / кол-во пользователей\n",
    "avgViewsPerUser = sum(usersDic.values()) / len(usersDic)\n",
    "print(f\"На одного пользователя в среднем приходится {avgViewsPerUser:.02f} просмотра.\")"
   ]
  }
 ],
 "metadata": {
  "kernelspec": {
   "display_name": "Python 3",
   "language": "python",
   "name": "python3"
  },
  "language_info": {
   "codemirror_mode": {
    "name": "ipython",
    "version": 3
   },
   "file_extension": ".py",
   "mimetype": "text/x-python",
   "name": "python",
   "nbconvert_exporter": "python",
   "pygments_lexer": "ipython3",
   "version": "3.7.3"
  }
 },
 "nbformat": 4,
 "nbformat_minor": 2
}
