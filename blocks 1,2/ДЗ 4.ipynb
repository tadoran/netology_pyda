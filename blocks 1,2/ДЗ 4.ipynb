{
 "cells": [
  {
   "cell_type": "markdown",
   "metadata": {},
   "source": [
    "# Задание к лекции \"Функции\".\n",
    "Для зачета необходимо правильно выполнить 4 заданий из 6.  \n",
    "Для зачета с отличием – все 6."
   ]
  },
  {
   "cell_type": "markdown",
   "metadata": {},
   "source": [
    "## Задание 1"
   ]
  },
  {
   "cell_type": "markdown",
   "metadata": {},
   "source": [
    "Дан список вида:"
   ]
  },
  {
   "cell_type": "code",
   "execution_count": 1,
   "metadata": {},
   "outputs": [],
   "source": [
    "data = [\n",
    "    [13, 25, 23, 34],\n",
    "    [45, 32, 44, 47],\n",
    "    [12, 33, 23, 95],\n",
    "    [13, 53, 34, 35]\n",
    "]"
   ]
  },
  {
   "cell_type": "markdown",
   "metadata": {},
   "source": [
    "Напишите функцию, которая возвращает сумму элементов на диагонали. Т. е. 13+32+23+35.  \n",
    "Список может быть любой длины, но всегда является \"квадратным\" (количество элементов во вложенных списках равно их количеству)."
   ]
  },
  {
   "cell_type": "code",
   "execution_count": 2,
   "metadata": {},
   "outputs": [
    {
     "data": {
      "text/plain": [
       "103"
      ]
     },
     "execution_count": 2,
     "metadata": {},
     "output_type": "execute_result"
    }
   ],
   "source": [
    "def diagonal_sum(data):\n",
    "    result = 0\n",
    "    for i, x in enumerate(data):\n",
    "        result += x[i]\n",
    "    return result\n",
    "\n",
    "diagonal_sum(data)"
   ]
  },
  {
   "cell_type": "markdown",
   "metadata": {},
   "source": [
    "## Задание 2"
   ]
  },
  {
   "cell_type": "markdown",
   "metadata": {},
   "source": [
    "Напишите функцию, возвращающую сумму первых n чисел Фибоначчи (для этого вам может понадобится ознакомиться с рекурсией)."
   ]
  },
  {
   "cell_type": "code",
   "execution_count": 3,
   "metadata": {},
   "outputs": [
    {
     "name": "stdout",
     "output_type": "stream",
     "text": [
      "32951280098\n"
     ]
    }
   ],
   "source": [
    "def fibbonachi_sum(n):\n",
    "    full_sequence = [1,1]\n",
    "    for x in range(2,n):\n",
    "        full_sequence.append(sum(full_sequence[-2:]))\n",
    "    return sum(full_sequence)\n",
    "\n",
    "print(fibbonachi_sum(50))"
   ]
  },
  {
   "cell_type": "markdown",
   "metadata": {},
   "source": [
    "## Задание 3"
   ]
  },
  {
   "cell_type": "code",
   "execution_count": 4,
   "metadata": {},
   "outputs": [],
   "source": [
    "cook_book = {\n",
    "  'салат': [\n",
    "     {'ingridient_name': 'сыр', 'quantity': 50, 'measure': 'гр'},\n",
    "     {'ingridient_name': 'томаты', 'quantity': 20, 'measure': 'гр'},\n",
    "     {'ingridient_name': 'огурцы', 'quantity': 20, 'measure': 'гр'},\n",
    "     {'ingridient_name': 'маслины', 'quantity': 10, 'measure': 'гр'},\n",
    "     {'ingridient_name': 'оливковое масло', 'quantity': 20, 'measure': 'мл'},\n",
    "     {'ingridient_name': 'салат', 'quantity': 10, 'measure': 'гр'},\n",
    "     {'ingridient_name': 'перец', 'quantity': 20, 'measure': 'гр'}\n",
    "    ],\n",
    "  'пицца': [\n",
    "     {'ingridient_name': 'сыр', 'quantity': 20, 'measure': 'гр'},\n",
    "     {'ingridient_name': 'колбаса', 'quantity': 30, 'measure': 'гр'},\n",
    "     {'ingridient_name': 'бекон', 'quantity': 30, 'measure': 'гр'},\n",
    "     {'ingridient_name': 'оливки', 'quantity': 10, 'measure': 'гр'},\n",
    "     {'ingridient_name': 'томаты', 'quantity': 20, 'measure': 'гр'},\n",
    "     {'ingridient_name': 'тесто', 'quantity': 100, 'measure': 'гр'},   \n",
    "    ],\n",
    "  'лимонад': [\n",
    "     {'ingridient_name': 'лимон', 'quantity': 1, 'measure': 'шт'},\n",
    "     {'ingridient_name': 'вода', 'quantity': 200, 'measure': 'мл'},\n",
    "     {'ingridient_name': 'сахар', 'quantity': 10, 'measure': 'гр'},\n",
    "     {'ingridient_name': 'лайм', 'quantity': 20, 'measure': 'гр'},    \n",
    "    ]\n",
    "}"
   ]
  },
  {
   "cell_type": "markdown",
   "metadata": {},
   "source": [
    "Напишите программу (она может состоять из нескольких функций), которая будет запрашивать у пользователя количество гостей и список блюд, которые будут подаваться каждому гостю. В результате программа должна выдавать список покупок, состоящий из ингредиентов, которые нужно купить в магазине (если ингредиенты повторяются, то их нужно записать одной строкой, а не отдельно).\n",
    "\n",
    "Пример:\n",
    "\n",
    "вызов\\_главной\\_функций()\n",
    "\n",
    "Введите количество гостей: 3  \n",
    "Введите блюда через пробел: пицца пицца лимонад\n",
    "\n",
    "Список покупок:  \n",
    "сыр 120 гр  \n",
    "колбаса 180 гр  \n",
    "бекон 180 гр  \n",
    "оливки 60 гр  \n",
    "томаты 120 гр  \n",
    "тесто 600 гр  \n",
    "лимон 3 шт  \n",
    "вода 600 мл  \n",
    "сахар 30 гр  \n",
    "лайм 60 гр  "
   ]
  },
  {
   "cell_type": "code",
   "execution_count": 5,
   "metadata": {},
   "outputs": [
    {
     "name": "stdout",
     "output_type": "stream",
     "text": [
      "Введите количество гостей: 3\n",
      "Введите блюда через пробел: пицца пицца лимонад\n",
      "Сыр: 120 гр\n",
      "Колбаса: 180 гр\n",
      "Бекон: 180 гр\n",
      "Оливки: 60 гр\n",
      "Томаты: 120 гр\n",
      "Тесто: 600 гр\n",
      "Лимон: 3 шт\n",
      "Вода: 600 мл\n",
      "Сахар: 30 гр\n",
      "Лайм: 60 гр\n"
     ]
    }
   ],
   "source": [
    "import copy\n",
    "\n",
    "def get_ingridients(dish):\n",
    "    current_dish = cook_book.get(dish,None)\n",
    "    if current_dish != None:\n",
    "        return copy.deepcopy(current_dish)\n",
    "    \n",
    "def add_ingriedients(main_dict, adding_dic, multiplier):\n",
    "    for ingridient in adding_dic:\n",
    "        if ingridient['ingridient_name'] not in main_dict:\n",
    "            main_dict[ingridient['ingridient_name']] = ingridient\n",
    "            main_dict[ingridient['ingridient_name']]['quantity'] = ingridient['quantity'] * multiplier\n",
    "        else:\n",
    "            main_dict[ingridient['ingridient_name']]['quantity'] += ingridient['quantity'] * multiplier\n",
    "    return main_dict\n",
    "\n",
    "def main_function():\n",
    "    guests_count = int(input(\"Введите количество гостей: \"))\n",
    "    dishes_served_str = input(\"Введите блюда через пробел: \")\n",
    "    dishes_served_list = dishes_served_str.strip().split(\" \")\n",
    "    \n",
    "    ingriedients_dict = {}\n",
    "    for dish in dishes_served_list:\n",
    "        if dish in cook_book:\n",
    "            ingriedients_dict = add_ingriedients(ingriedients_dict,get_ingridients(dish),guests_count)\n",
    "    \n",
    "    for key,value in ingriedients_dict.items():\n",
    "        string = f'{value[\"ingridient_name\"].capitalize()}: {value[\"quantity\"]:d} {value[\"measure\"]}'\n",
    "        print(string)\n",
    "    \n",
    "main_function()\n",
    "    "
   ]
  },
  {
   "cell_type": "markdown",
   "metadata": {},
   "source": [
    "## Задание 4"
   ]
  },
  {
   "cell_type": "markdown",
   "metadata": {},
   "source": [
    "Вы работаете секретарем и вам постоянно приходят различные документы. Вы должны быть очень внимательны, чтобы не потерять ни один документ. Каталог документов хранится в следующем виде:"
   ]
  },
  {
   "cell_type": "code",
   "execution_count": 6,
   "metadata": {},
   "outputs": [],
   "source": [
    "documents = [\n",
    "    {'type': 'passport', 'number': '2207 876234', 'name': 'Василий Гупкин'},\n",
    "    {'type': 'invoice', 'number': '11-2', 'name': 'Геннадий Покемонов'},\n",
    "    {'type': 'insurance', 'number': '10006', 'name': 'Аристарх Павлов'}\n",
    "]"
   ]
  },
  {
   "cell_type": "markdown",
   "metadata": {},
   "source": [
    "Перечень полок, на которых находятся документы хранится в следующем виде:"
   ]
  },
  {
   "cell_type": "code",
   "execution_count": 7,
   "metadata": {},
   "outputs": [],
   "source": [
    "directories = {\n",
    "    '1': ['2207 876234', '11-2', '5455 028765'],\n",
    "    '2': ['10006', '5400 028765', '5455 002299'],\n",
    "    '3': []\n",
    "}"
   ]
  },
  {
   "cell_type": "markdown",
   "metadata": {},
   "source": [
    "Необходимо реализовать пользовательские команды (внимание! это не название функций, которые должны быть выразительными, а команды, которые вводит пользователь, чтобы получить необходимый результат):\n",
    "  \n",
    "- p – people – команда, которая спросит номер документа и выведет имя человека, которому он принадлежит;  \n",
    "- s – shelf – команда, которая спросит номер документа и выведет номер полки, на которой он находится  \n",
    "Правильно обработайте ситуацию, когда пользователь будет вводить несуществующий документ."
   ]
  },
  {
   "cell_type": "code",
   "execution_count": 8,
   "metadata": {},
   "outputs": [],
   "source": [
    "def main_program():\n",
    "    '''Основной цикл программы.\n",
    "    Просит указать команду + пробел + аргументы через запятую.\n",
    "    При отсутствии аргументов, подпрограммы при необходимости самостоятельно запрашивают параметры.\n",
    "    Список зарегистрированных команд можно вывести, указав команду \"help\" или \"?\"\n",
    "    '''\n",
    "    user_input = \"\"\n",
    "    user_input_count = 0\n",
    "    # Цикл на повторение - прерывается после 5 некорректного ввода\n",
    "    while True:\n",
    "        user_input = input(\"Enter command: \")\n",
    "        # Первый элемент до пробела - команда, все что после - разбивается запятыми и передается в качестве *args в функции \n",
    "        command_line = user_input.split(\" \",1)\n",
    "        arguments = []\n",
    "        command_is_found = False\n",
    "        \n",
    "        # Разделение *args\n",
    "        if len(command_line) >=2:\n",
    "            arguments = list(map(str.strip,command_line[1].split(\",\")))\n",
    "        \n",
    "        # Выход по соответствующим командам \n",
    "        if command_line[0] in commands[\"exit\"][\"commands\"] or user_input_count >=5:\n",
    "            print(\"Bye bye!\")\n",
    "            break\n",
    "        else:\n",
    "            # Ищем комманду в глобальной переменной commands\n",
    "            for commmandName, commandDetails in commands.items():\n",
    "                if command_line[0] in commandDetails[\"commands\"]:\n",
    "                    command_is_found = True\n",
    "                    # Вызываем команду, если она найдена, передаем *args\n",
    "                    method = eval(commandDetails[\"function\"])\n",
    "                    result = method(*arguments)\n",
    "                    # Если функция что-то возвращает - выведем\n",
    "                    if result != None:\n",
    "                        print(result)\n",
    "                        \n",
    "                    user_input_count = 0\n",
    "        if not command_is_found: \n",
    "            print(f\"Команда '{command_line[0]}' не распознана\")\n",
    "        user_input_count += 1"
   ]
  },
  {
   "cell_type": "code",
   "execution_count": 9,
   "metadata": {},
   "outputs": [],
   "source": [
    "def get_directory_by_document(*params):\n",
    "    '''Выводит название(я) папки(ок) по переданным номерам документов\n",
    "    '''\n",
    "    docs = list(params)\n",
    "    output = \"\"\n",
    "    # Если в ф-ию не переданы агрументы - запросим\n",
    "    if len(docs) == 0:\n",
    "        docs.append(input(\"Введите номер документа: \"))\n",
    "    \n",
    "    # Поиск каждого из д-тов в полученном списке\n",
    "    for doc_number in docs:\n",
    "        for dir_name, dir_contents  in directories.items():\n",
    "            if doc_number in dir_contents:\n",
    "                output += dir_name + \"\\n\"\n",
    "    # Возвращаем папку(и) с документом(ами)\n",
    "    return output\n",
    "            \n",
    "def get_owner_by_document(*params):\n",
    "    '''Выводит имя владельца по номеру документа\n",
    "    '''\n",
    "    docs = list(params)\n",
    "    output = \"\"\n",
    "    # Если в ф-ию не переданы агрументы - запросим\n",
    "    if len(docs) == 0:\n",
    "        docs.append(input(\"Введите номер документа: \"))\n",
    "        \n",
    "    for doc_number in docs:\n",
    "        for document in documents:\n",
    "            if document['number'] == doc_number:\n",
    "                output += document['name'] + \"\\n\"\n",
    "                \n",
    "    # Возвращаем имена владельцев документа(ов)\n",
    "    return output"
   ]
  },
  {
   "cell_type": "code",
   "execution_count": 10,
   "metadata": {},
   "outputs": [],
   "source": [
    "# Регистрация ключей, функций, описаний, и их Alias для унифицированного доступа из main_program\n",
    "commands = (\n",
    "        {\n",
    "            \"exit\":{\n",
    "                 \"commands\":[\"x\",\"exit\"],\n",
    "                 \"function\":None,\n",
    "                 \"descr\":\"Выход из программы\"\n",
    "            },\n",
    "            \"people\":{\n",
    "                 \"commands\":[\"p\", \"people\"],\n",
    "                 \"function\":\"get_owner_by_document\",\n",
    "                 \"descr\":\"Команда, которая по номеру документа выведет имя человека, которому он принадлежит\"\n",
    "            },\n",
    "            \"shelf\":{\n",
    "                 \"commands\":[\"s\",\"shelf\"],\n",
    "                 \"function\":\"get_directory_by_document\",\n",
    "                 \"descr\":\"Команда, которая по номеру документа выведет номер полки, на которой он находится\"\n",
    "            }\n",
    "        })"
   ]
  },
  {
   "cell_type": "markdown",
   "metadata": {},
   "source": [
    "```main_program()```\n",
    "#### Вызов main_program() с примерами вызова см. внизу (после включения всех подпрограмм) "
   ]
  },
  {
   "cell_type": "markdown",
   "metadata": {},
   "source": [
    "## Задание 5"
   ]
  },
  {
   "cell_type": "markdown",
   "metadata": {},
   "source": [
    "К условию из задания 5 реализуйте следующие команды:\n",
    "  \n",
    "- l – list – команда, которая выведет список всех документов в формате   \n",
    "**passport \"2207 876234\" \"Василий Гупкин\"**  \n",
    "- as – add shelf – команда, которая спросит номер новой полки и добавит ее в перечень"
   ]
  },
  {
   "cell_type": "code",
   "execution_count": 11,
   "metadata": {},
   "outputs": [],
   "source": [
    "def list_all_documents():\n",
    "    '''Вывод всех зарегистированных документов\n",
    "    '''\n",
    "    output = \"\"\n",
    "    for document in documents:\n",
    "        output += f'{document[\"type\"]} \"{document[\"number\"]}\" \"{document[\"name\"]}\"\\n'\n",
    "    # Возвращаем отформатированный текст с данными по каждомудокументу\n",
    "    return output\n",
    "\n",
    "# Регистрация в commands\n",
    "commands[\"list\"] = ({\n",
    "    \"commands\":[\"l\",\"list\"],\n",
    "    \"function\":\"list_all_documents\",\n",
    "    \"descr\":\"Команда, которая выведет список всех документов\"\n",
    "})"
   ]
  },
  {
   "cell_type": "code",
   "execution_count": 12,
   "metadata": {},
   "outputs": [],
   "source": [
    "def add_shelf(*shelfs):\n",
    "    '''Создает полку или сообщает, что соответсвующая полка уже существует\n",
    "    Возвращает текст со статусом создания папки'''\n",
    "    for shelf in shelfs:\n",
    "        if directories.get(shelf,None) != None:\n",
    "            output = f'Полка с номером {shelf} уже существует.'\n",
    "        else:\n",
    "            directories[shelf] = []\n",
    "            output =f'Полка {shelf} создана.'\n",
    "    return output\n",
    "\n",
    "# Регистрация в commands\n",
    "commands[\"addShelf\"] = ({\n",
    "    \"commands\":[\"as\",\"addShelf\"],\n",
    "    \"function\":\"add_shelf\",\n",
    "    \"descr\":\"Команда, которая добавит заданную полку в перечень полок\"\n",
    "})"
   ]
  },
  {
   "cell_type": "markdown",
   "metadata": {},
   "source": [
    "#### В заданиях не было подобной функции\n",
    "##### Но из-за выбранного \"паттерна\" main_program(), решил, что вывод всех возможных команд с описаниями и их ALIAS'ов необходим "
   ]
  },
  {
   "cell_type": "code",
   "execution_count": 13,
   "metadata": {},
   "outputs": [],
   "source": [
    "def list_all_commands():\n",
    "    '''Возвращает список всех возможных команд main_program() и их описание.'''\n",
    "    output = \"\"\n",
    "    for command_name, command_details in commands.items():\n",
    "        output += f'{command_name}: \\n' \n",
    "        output += f'{command_details[\"descr\"]}\\n'\n",
    "        if command_details[\"function\"] != None:\n",
    "            output += f'Оболочка для функции {command_details[\"function\"]}()\\n' \n",
    "        output += f'Ключи для вызова: {\", \".join(command_details[\"commands\"])}\\n\\n'\n",
    "    \n",
    "    return output\n",
    "\n",
    "# Регистрация в commands\n",
    "commands[\"help\"] = ({\n",
    "    \"commands\":[\"help\",\"?\"],\n",
    "    \"function\":\"list_all_commands\",\n",
    "    \"descr\":\"Вывод описания всех возможных функций\"\n",
    "})\n"
   ]
  },
  {
   "cell_type": "markdown",
   "metadata": {},
   "source": [
    "## Задание 6"
   ]
  },
  {
   "cell_type": "markdown",
   "metadata": {},
   "source": [
    "К условию из задания 5 реализуйте следующие команды:  \n",
    "  \n",
    "- d – delete – команда, которая спросит номер документа и удалит его из каталога и из перечня полок. Предусмотрите сценарий, когда пользователь вводит несуществующий документ;  \n",
    "- m – move – команда, которая спросит номер документа и целевую полку и переместит его с текущей полки на целевую. Корректно обработайте кейсы, когда пользователь пытается переместить несуществующий документ или переместить документ на несуществующую полку;  \n",
    "- a – add – команда, которая добавит новый документ в каталог и в перечень полок, спросив его номер, тип, имя владельца и номер полки, на котором он будет храниться."
   ]
  },
  {
   "cell_type": "code",
   "execution_count": 14,
   "metadata": {},
   "outputs": [],
   "source": [
    "def delete_document(*params):\n",
    "    '''Удаляет документ(ы) из каталога по переданным номерам док-тов\n",
    "    Если параметры не переданы, запрашивает ввод данных.'''\n",
    "    docs = list(params)\n",
    "    output = \"\"\n",
    "    # Если функции не переданы аргументы - вывести запрос на ввод\n",
    "    if len(docs) == 0:\n",
    "        docs.extend(list(map(str.strip,input(\"Введите номер документа: \").split(\",\"))))\n",
    "\n",
    "    for doc_number in docs:\n",
    "        doc_found = False\n",
    "        for document_id, document in enumerate(documents):\n",
    "            if doc_number == document[\"number\"]:\n",
    "                doc_found = True\n",
    "                documents.pop(document_id)\n",
    "                break\n",
    "        if doc_found:\n",
    "            output += f'Документ {doc_number} удален.\\n'\n",
    "        else:\n",
    "            output += f'Документ {doc_number} не найден.\\n'\n",
    "    # Возвращает тествое описание проделанных действий\n",
    "    return output\n",
    "    \n",
    "# Регистрация в commands\n",
    "commands[\"delete\"] = ({\n",
    "    \"commands\":[\"del\",\"delete\",\"del\"],\n",
    "    \"function\":\"delete_document\",\n",
    "    \"descr\":\"Команда, которая удалит документ(ы) из каталога и из перечня полок\"\n",
    "})"
   ]
  },
  {
   "cell_type": "code",
   "execution_count": 15,
   "metadata": {},
   "outputs": [],
   "source": [
    "def move_document(*params):\n",
    "    '''Перемещает документ(ы) в указанную(ые) директории.\n",
    "    Ожидает кол-во переданных аргументов кратным 2 (пары номер документа, директория)\n",
    "    Если параметры не переданы, запрашивает ввод данных.'''\n",
    "    inputList = list(params)\n",
    "    output = \"\"\n",
    "    \n",
    "    input_counter = 0\n",
    "    while input_counter <= 5:\n",
    "        if (len(inputList) > 0 and len(inputList) % 2 == 0):\n",
    "            break\n",
    "        if input_counter == 5:\n",
    "            output = \"Неверное количество агрументов. (Ожидается кратно 2м).\"\n",
    "            return output\n",
    "        # Запрос данных в случае если или не переданы параметры, или они отличаются от ожидаемых.\n",
    "        inputList = list(map(str.strip,input(\"Введите номер документа и полку через запятую: \").split(\",\")))\n",
    "        input_counter += 1\n",
    "        \n",
    "    # Сживаем пары [номер документа - папка] в кортежи\n",
    "    data_pairs = list(zip(inputList[0::2], inputList[1::2]))\n",
    "    \n",
    "    \n",
    "    for document_to_move, dir_to_move in data_pairs:\n",
    "        # Если директория не существует, перенос не осуществляется\n",
    "        if dir_to_move not in directories:\n",
    "            output += f'Полка {dir_to_move} не существует.\\n'\n",
    "            continue\n",
    "        if document_to_move not in directories[dir_to_move]:\n",
    "            curDirectory = get_directory_by_document(document_to_move).strip() \n",
    "            directories[curDirectory].remove(document_to_move)\n",
    "            directories[dir_to_move].append(document_to_move)\n",
    "            output += f'Документ {document_to_move} перемещен на полку {dir_to_move}.\\n'\n",
    "            break\n",
    "        # Если документ уже есть в директории для переноса - выведем сообщение и пропустим\n",
    "        else:\n",
    "            output += f\"Документ {document_to_move} уже в папке {dir_to_move}\\n\"\n",
    "    # Возвращаем тестовое описание проделанных операций\n",
    "    return output\n",
    "\n",
    "# Регистрация в commands\n",
    "commands[\"move\"] = ({\n",
    "    \"commands\":[\"move\",\"mov\",\"m\"],\n",
    "    \"function\":\"move_document\",\n",
    "    \"descr\":\"Команда, которая переместит указанный документ(ы) с текущей полки на целевую(ые)\"\n",
    "})"
   ]
  },
  {
   "cell_type": "code",
   "execution_count": 16,
   "metadata": {},
   "outputs": [],
   "source": [
    "def add_document(*params):\n",
    "    '''Добавляет новые документ(ы) в указанную(ые) директории.\n",
    "    Ожидает кол-во переданных аргументов кратным 4 (номер, тип, вледелец документа, директория)\n",
    "    Если параметры не переданы, запрашивает ввод данных.'''\n",
    "    \n",
    "    inputList = list(params)\n",
    "    output = \"\"\n",
    "    # Если функции не переданы аргументы - вывести запрос на ввод\n",
    "    input_counter = 0\n",
    "    while input_counter <= 5:\n",
    "        if (len(inputList) > 0 and len(inputList) % 4 == 0):\n",
    "            break\n",
    "        if input_counter == 5:\n",
    "            output = \"Неверное количество агрументов (ожидается кратно 4м).\\n\"\n",
    "            return output\n",
    "        # Запрос данных в случае если или не переданы параметры, или они отличаются от ожидаемых.\n",
    "        inputList = list(map(str.strip,input(\"Введите номер и тип документа, имя владельца и полку -  через запятую: \").split(\",\")))\n",
    "        input_counter += 1\n",
    "    \n",
    "    \n",
    "    # Сшиваем кортежи - номер, тип, вледелец документа, директория\n",
    "    data_pairs = list(zip(inputList[0::4], inputList[1::4], inputList[2::4], inputList[3::4]))\n",
    "    for doc_num, doc_type, doc_name, doc_shelf in data_pairs:\n",
    "        if doc_shelf in directories:\n",
    "            if get_directory_by_document(doc_num).strip() == \"\":\n",
    "                documents.append({'type': doc_type, 'number': doc_num, 'name': doc_name})\n",
    "                directories[doc_shelf].append(doc_num)\n",
    "                output += f\"Документ {doc_num} добавлен в папку {doc_shelf}\\n\"\n",
    "            else:\n",
    "                output += f\"Документ {doc_num} уже существует.\\n\"\n",
    "        else:\n",
    "            output += f\"Директория {doc_shelf} не найдена.\\n\"\n",
    "    return output\n",
    "\n",
    "# Регистрация в commands\n",
    "commands[\"addDocument\"] = ({\n",
    "    \"commands\":[\"addDocument\", \"addDoc\",\"ad\",\"a\"],\n",
    "    \"function\":\"add_document\",\n",
    "    \"descr\":\"Команда, которая добавит новый документ в каталог и в перечень полок, учитывая его номер, тип, имя владельца и номер полки.\"\n",
    "})"
   ]
  },
  {
   "cell_type": "code",
   "execution_count": 17,
   "metadata": {},
   "outputs": [
    {
     "name": "stdout",
     "output_type": "stream",
     "text": [
      "Enter command: ?\n",
      "exit: \n",
      "Выход из программы\n",
      "Ключи для вызова: x, exit\n",
      "\n",
      "people: \n",
      "Команда, которая по номеру документа выведет имя человека, которому он принадлежит\n",
      "Оболочка для функции get_owner_by_document()\n",
      "Ключи для вызова: p, people\n",
      "\n",
      "shelf: \n",
      "Команда, которая по номеру документа выведет номер полки, на которой он находится\n",
      "Оболочка для функции get_directory_by_document()\n",
      "Ключи для вызова: s, shelf\n",
      "\n",
      "list: \n",
      "Команда, которая выведет список всех документов\n",
      "Оболочка для функции list_all_documents()\n",
      "Ключи для вызова: l, list\n",
      "\n",
      "addShelf: \n",
      "Команда, которая добавит заданную полку в перечень полок\n",
      "Оболочка для функции add_shelf()\n",
      "Ключи для вызова: as, addShelf\n",
      "\n",
      "help: \n",
      "Вывод описания всех возможных функций\n",
      "Оболочка для функции list_all_commands()\n",
      "Ключи для вызова: help, ?\n",
      "\n",
      "delete: \n",
      "Команда, которая удалит документ(ы) из каталога и из перечня полок\n",
      "Оболочка для функции delete_document()\n",
      "Ключи для вызова: del, delete, del\n",
      "\n",
      "move: \n",
      "Команда, которая переместит указанный документ(ы) с текущей полки на целевую(ые)\n",
      "Оболочка для функции move_document()\n",
      "Ключи для вызова: move, mov, m\n",
      "\n",
      "addDocument: \n",
      "Команда, которая добавит новый документ в каталог и в перечень полок, учитывая его номер, тип, имя владельца и номер полки.\n",
      "Оболочка для функции add_document()\n",
      "Ключи для вызова: addDocument, addDoc, ad, a\n",
      "\n",
      "\n",
      "Enter command: Привет, программа!\n",
      "Команда 'Привет,' не распознана\n",
      "Enter command: list\n",
      "passport \"2207 876234\" \"Василий Гупкин\"\n",
      "invoice \"11-2\" \"Геннадий Покемонов\"\n",
      "insurance \"10006\" \"Аристарх Павлов\"\n",
      "\n",
      "Enter command: shelf 11-2, 10006\n",
      "1\n",
      "2\n",
      "\n",
      "Enter command: p 2207 876234\n",
      "Василий Гупкин\n",
      "\n",
      "Enter command: as Мои документы\n",
      "Полка Мои документы создана.\n",
      "Enter command: move 10006, Мои документы\n",
      "Документ 10006 перемещен на полку Мои документы.\n",
      "\n",
      "Enter command: addDocument\n",
      "Введите номер и тип документа, имя владельца и полку -  через запятую: 666 252 44,  Свидетельство, Илларион Карасиков, Мои документы\n",
      "Документ 666 252 44 добавлен в папку Мои документы\n",
      "\n",
      "Enter command: list\n",
      "passport \"2207 876234\" \"Василий Гупкин\"\n",
      "invoice \"11-2\" \"Геннадий Покемонов\"\n",
      "insurance \"10006\" \"Аристарх Павлов\"\n",
      "Свидетельство \"666 252 44\" \"Илларион Карасиков\"\n",
      "\n",
      "Enter command: exit\n",
      "Bye bye!\n"
     ]
    }
   ],
   "source": [
    "main_program()"
   ]
  }
 ],
 "metadata": {
  "kernelspec": {
   "display_name": "Python 3",
   "language": "python",
   "name": "python3"
  },
  "language_info": {
   "codemirror_mode": {
    "name": "ipython",
    "version": 3
   },
   "file_extension": ".py",
   "mimetype": "text/x-python",
   "name": "python",
   "nbconvert_exporter": "python",
   "pygments_lexer": "ipython3",
   "version": "3.7.3"
  }
 },
 "nbformat": 4,
 "nbformat_minor": 2
}
