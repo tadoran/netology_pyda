{
 "cells": [
  {
   "cell_type": "markdown",
   "metadata": {},
   "source": [
    "### Задание 1.\n",
    "Даны 2 строки long_phrase и short_phrase. Напишите код, который проверяет действительно ли длинная фраза long_phrase длиннее короткой short_phrase. И выводит True или False в зависимости от результата сравнения.\n",
    "\n",
    "long_phrase = 'Насколько проще было бы писать программы, если бы не заказчики’\n",
    "short_phrase = ‘640Кб должно хватить для любых задач. Билл Гейтс (по легенде)’"
   ]
  },
  {
   "cell_type": "code",
   "execution_count": 1,
   "metadata": {},
   "outputs": [
    {
     "name": "stdout",
     "output_type": "stream",
     "text": [
      "True\n"
     ]
    }
   ],
   "source": [
    "long_phrase = 'Насколько проще было бы писать программы, если бы не заказчики'\n",
    "short_phrase = '640Кб должно хватить для любых задач. Билл Гейтс (по легенде)'\n",
    "\n",
    "print(len(long_phrase) > len(short_phrase))"
   ]
  },
  {
   "cell_type": "markdown",
   "metadata": {},
   "source": [
    "## Задание 2.\n",
    "Дано значение объема файла в байтах. Напишите перевод этого значения в мегабайты в формате:\n",
    "‘Объем файла равен 213.68Mb’"
   ]
  },
  {
   "cell_type": "code",
   "execution_count": 2,
   "metadata": {},
   "outputs": [
    {
     "name": "stdout",
     "output_type": "stream",
     "text": [
      "Объем файла в байтах: 218808\n",
      "Объем файла равен 213.68Mb\n"
     ]
    }
   ],
   "source": [
    "inputKbs = input(\"Объем файла в байтах: \")\n",
    "outputMbs = round(float(inputKbs) / 1024, 2)\n",
    "print(\"Объем файла равен \" + str(outputMbs) + \"Mb\")"
   ]
  },
  {
   "cell_type": "markdown",
   "metadata": {},
   "source": [
    "## Задание 3.\n",
    "Разработать приложение для определения знака зодиака по дате рождения.\n",
    "Пример:\n",
    "Введите месяц: март\n",
    "Введите число: 6\n",
    "\n",
    "Вывод:\n",
    "Рыбы"
   ]
  },
  {
   "cell_type": "code",
   "execution_count": 3,
   "metadata": {},
   "outputs": [
    {
     "name": "stdout",
     "output_type": "stream",
     "text": [
      "Введите месяц: март\n",
      "Введите число: 6\n",
      "Вывод: Рыбы\n"
     ]
    }
   ],
   "source": [
    "inputMonth = input(\"Введите месяц: \")\n",
    "inputDay = int(input(\"Введите число: \"))\n",
    "monthNames = ([ \"Январь\", \n",
    "                \"Февраль\", \n",
    "                \"Март\", \n",
    "                \"Апрель\", \n",
    "                \"Май\", \n",
    "                \"Июнь\", \n",
    "                \"Июль\", \n",
    "                \"Август\", \n",
    "                \"Сентябрь\", \n",
    "                \"Октябрь\", \n",
    "                \"Ноябрь\", \n",
    "                \"Декабрь\", \n",
    "             ])\n",
    "zodiacSigns = ([\"Козерог\", \n",
    "                \"Водолей\", \n",
    "                \"Рыбы\", \n",
    "                \"Овен\", \n",
    "                \"Телец\", \n",
    "                \"Близнецы\", \n",
    "                \"Рак\", \n",
    "                \"Лев\", \n",
    "                \"Дева\", \n",
    "                \"Весы\", \n",
    "                \"Скорпион\", \n",
    "                \"Стрелец\", \n",
    "                ])\n",
    "i = -1\n",
    "for x in monthNames:\n",
    "    i = i + 1\n",
    "    if x == inputMonth.capitalize():\n",
    "        if inputDay <=21:\n",
    "            sign = zodiacSigns[ i % 12]\n",
    "        else:\n",
    "            sign = zodiacSigns[(i+1) % 12]\n",
    "\n",
    "print(\"Вывод: \" + sign)"
   ]
  },
  {
   "cell_type": "markdown",
   "metadata": {},
   "source": [
    "## Задание 4.\n",
    "Нужно разработать приложение для финансового планирования.\n",
    "Приложение учитывает сколько уходит на ипотеку, “на жизнь” и сколько нужно отложить на пенсию.\n",
    "Пользователь вводит заработанную плату в месяц.\n",
    "Сколько процентов от зп уходит на ипотеку.\n",
    "Сколько процентов от зп уходит “на жизнь”.\n",
    "Сколько раз приходит премия в год.\n",
    "Остальная часть заработанной платы откладывается на пенсию.\n",
    "Также пользователю приходит премия в размере зарплаты, от которой половина уходит на отпуск, а вторая половина откладывается.\n",
    "Программа должна учитывать сколько премий было в год.\n",
    "Нужно вывести сколько денег тратит пользователь на ипотеку и сколько он накопит за год.\n",
    "Пример:\n",
    "\n",
    "Введите заработанную плату в месяц: 100000\n",
    "Введите сколько процентов уходит на ипотеку: 30\n",
    "Введите сколько процентов уходит на жизнь: 50\n",
    "Введите количество премий за год: 2\n",
    "\n",
    "Вывод:\n",
    "На ипотеку было потрачено: 360000 рублей\n",
    "Было накоплено: 340000 рублей"
   ]
  },
  {
   "cell_type": "code",
   "execution_count": 4,
   "metadata": {},
   "outputs": [
    {
     "name": "stdout",
     "output_type": "stream",
     "text": [
      "Введите заработанную плату в месяц: 100000\n",
      "Введите сколько процентов уходит на ипотеку: 30\n",
      "Введите сколько процентов уходит на жизнь: 50\n",
      "Введите количество премий за год: 2\n",
      "На ипотеку было потрачено: 360000 рублей\n",
      "Было накоплено: 340000 рублей\n"
     ]
    }
   ],
   "source": [
    "monthIncomeInput = int(input(\"Введите заработанную плату в месяц: \"))\n",
    "mortgagePercentInput = int (input(\"Введите сколько процентов уходит на ипотеку: \"))\n",
    "pocketMoneyPercentInput = int(input(\"Введите сколько процентов уходит на жизнь: \"))\n",
    "premiumInYearInput = int(input(\"Введите количество премий за год: \"))\n",
    "\n",
    "mortgagePayments = (monthIncomeInput * 12) * (mortgagePercentInput / 100)\n",
    "\n",
    "savingsFromRegularPaymentPercent = (100 - (mortgagePercentInput + pocketMoneyPercentInput)) / 100\n",
    "savings = (monthIncomeInput * 12) * savingsFromRegularPaymentPercent\n",
    "savings += (monthIncomeInput * premiumInYearInput) / 2\n",
    "\n",
    "print(\"На ипотеку было потрачено: \" + str(int(mortgagePayments)) + \" рублей\")\n",
    "print(\"Было накоплено: \" + str(int(savings)) + \" рублей\")"
   ]
  }
 ],
 "metadata": {
  "kernelspec": {
   "display_name": "Python 3",
   "language": "python",
   "name": "python3"
  },
  "language_info": {
   "codemirror_mode": {
    "name": "ipython",
    "version": 3
   },
   "file_extension": ".py",
   "mimetype": "text/x-python",
   "name": "python",
   "nbconvert_exporter": "python",
   "pygments_lexer": "ipython3",
   "version": "3.6.7"
  }
 },
 "nbformat": 4,
 "nbformat_minor": 2
}
