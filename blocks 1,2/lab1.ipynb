{
 "cells": [
  {
   "cell_type": "markdown",
   "metadata": {},
   "source": [
    "## Лабораторная работа по курсу «Python для анализа данных»\n",
    "При выполнении работы допускается использование любых внешних модулей и пакетов."
   ]
  },
  {
   "cell_type": "markdown",
   "metadata": {},
   "source": [
    "### Задача 1\n",
    "Дана строка:"
   ]
  },
  {
   "cell_type": "code",
   "execution_count": 7,
   "metadata": {},
   "outputs": [],
   "source": [
    "string_01 = (\n",
    "    \"Mama, just killed a man, put a gun against his head, pulled my trigger, now he's dead.\"\n",
    "    \"Mama, life had just begun, but now I've gone and thrown it all away.\"\n",
    "    \"Mama, ooh (any way the wind blows), didn't mean to make you cry.\"\n",
    "    \"If I'm not back again this time tomorrow carry on, carry on as if nothing really matters.\"\n",
    ")"
   ]
  },
  {
   "cell_type": "markdown",
   "metadata": {},
   "source": [
    "1. Посчитайте, сколько в строке символов (исключая пробелы).\n",
    "1. Посчитайте, сколько в строке слов.\n",
    "1. Напишите функцию, которая будет принимать в качестве аргумента букву и\n",
    "выводить все слова из строки, заканчивающиеся на эту букву (например, “s”).\n",
    "1. Не обязательно: Напишите функцию, которая будет принимать в качестве\n",
    "аргумента букву и выводить все слова из строки, начинающиеся на эту букву\n",
    "(например, “m”).\n"
   ]
  },
  {
   "cell_type": "code",
   "execution_count": 12,
   "metadata": {},
   "outputs": [],
   "source": [
    "len_wo_spaces = len(string_01.replace(\" \",\"\"))\n",
    "print(f\"1. Символов без пробелов: {len_wo_spaces}\")"
   ]
  },
  {
   "cell_type": "code",
   "execution_count": 24,
   "metadata": {},
   "outputs": [],
   "source": [
    "junk_symbols = \"\\.,\\(\\)\"\n",
    "string = string_01\n",
    "for junk_symbol in junk_symbols:\n",
    "    string = string.replace(junk_symbol,\" \")\n",
    "string = string.replace(\"  \",\" \")\n",
    "\n",
    "string_list = string.split(\" \")\n",
    "\n",
    "words_count = len(string_list)\n",
    "print(f\"2. Слов тексте: {words_count}\")"
   ]
  },
  {
   "cell_type": "code",
   "execution_count": 37,
   "metadata": {},
   "outputs": [],
   "source": [
    "def get_words_on_last_symbol(string_list, symbol):\n",
    "    returned_list = []\n",
    "    for word in string_list:\n",
    "        if word[-1:] == symbol:\n",
    "            returned_list.append(word)\n",
    "    return returned_list\n",
    "\n",
    "\n",
    "def get_words_on_first_symbol(string_list, symbol):\n",
    "    returned_list = []\n",
    "    for word in string_list:\n",
    "        if word[:1] == symbol:\n",
    "            returned_list.append(word)\n",
    "    return returned_list"
   ]
  },
  {
   "cell_type": "code",
   "execution_count": 40,
   "metadata": {},
   "outputs": [],
   "source": [
    "print(get_words_on_last_symbol(string_list, \"s\"))\n",
    "print(get_words_on_first_symbol(string_list, \"m\"))"
   ]
  },
  {
   "cell_type": "markdown",
   "metadata": {},
   "source": [
    "### Задача 2\n",
    "Напишите код, который будет генерировать случайную последовательность из 6\n",
    "цифр, одна из которых должна быть 3. Позиция цифры 3 должна\n",
    "определяться случайным образом. Результат должен быть строкой. Например:\n",
    "\"456309\" или \"330127\"."
   ]
  },
  {
   "cell_type": "code",
   "execution_count": 41,
   "metadata": {},
   "outputs": [],
   "source": [
    "import random "
   ]
  },
  {
   "cell_type": "code",
   "execution_count": 138,
   "metadata": {},
   "outputs": [],
   "source": [
    "def get_rand_w_three(length=6):\n",
    "    three_is_generated = False\n",
    "    output = \"\"\n",
    "    for pos in range(0,length +1):\n",
    "        rand_num = random.randint(0,9)\n",
    "        if rand_num == 3: three_is_generated = True    \n",
    "        output += str(rand_num)\n",
    "        \n",
    "    if three_is_generated == False:\n",
    "        rand_place = random.randint(0,len(output)-1)\n",
    "        output = output[:rand_place] + \"3\" + output[rand_place+1:]\n",
    "    \n",
    "    return output"
   ]
  },
  {
   "cell_type": "code",
   "execution_count": 142,
   "metadata": {},
   "outputs": [],
   "source": [
    "get_rand_w_three()"
   ]
  },
  {
   "cell_type": "markdown",
   "metadata": {},
   "source": [
    "\n",
    "### Задача 3\n",
    "Дан список:"
   ]
  },
  {
   "cell_type": "code",
   "execution_count": 1,
   "metadata": {},
   "outputs": [],
   "source": [
    "list_01 = [1, 1, 2, 3, 5, 8, 13, 21, 34, 55, 89, 144, 233, 377, 610]"
   ]
  },
  {
   "cell_type": "markdown",
   "metadata": {},
   "source": [
    "Напишите алгоритм, который выводит сумму элементов списка, которые больше\n",
    "10, но меньше 100."
   ]
  },
  {
   "cell_type": "code",
   "execution_count": 152,
   "metadata": {},
   "outputs": [],
   "source": [
    "a = [x for x in list_01 if x > 10 and x < 100]\n",
    "print(sum(a))"
   ]
  },
  {
   "cell_type": "markdown",
   "metadata": {},
   "source": [
    "### Задача 4\n",
    "Данные студентов представлены в виде списка списков:"
   ]
  },
  {
   "cell_type": "code",
   "execution_count": 5,
   "metadata": {},
   "outputs": [],
   "source": [
    "students = [\n",
    "     [\"0001\", \"Антонов\", \"Антон\", \"Игоревич\", \"20.08.2009\",\"БСТ161\"],\n",
    "     [\"1102\", \"Богов\", \"Артем\", \"Игоревич\", \"25.01.2010\",\"БСТ162\"],\n",
    "     [\"0333\", \"Глаголева\", \"Анастасия\", \"Николаевна\",\"11.07.2009\", \"БСТ163\"],\n",
    "     [\"4004\", \"Степанова\", \"Наталья\", \"Александровна\",\"13.02.2008\", \"БСТ161\"],\n",
    "     [\"0045\", \"Боков\", \"Игорь\", \"Харитонович\", \"02.06.2009\",\"БСТ161\"],\n",
    "     [\"0096\", \"Васильков\", \"Валентин\", \"Сергеевич\", \"20.03.2009\",\"БСТ164\"],\n",
    "     [\"0607\", \"Сиропова\", \"Виолетта\", \"Эдуардовна\", \"28.05.2010\",\"БСТ162\"],\n",
    "     [\"0309\", \"Шафутинский\", \"Михаил\", \"Михайлович\",\"03.09.2007\", \"БСТ163\"]\n",
    " ]"
   ]
  },
  {
   "cell_type": "markdown",
   "metadata": {},
   "source": [
    "1. Преобразуйте данные таким образом, чтобы они были представлены в виде\n",
    "словаря, в котором ключами являются номера студентов, а значениями —\n",
    "список из других данных о студентах.\n",
    "1. Напишите функцию, которая принимает в качестве аргумента номер студента и\n",
    "новый номер группы и позволяет изменить номер группы этого студента на\n",
    "новый.\n",
    "1. Напишите функцию, которая принимает номер группы и выводит список\n",
    "(фамилии, имена, отчества) всех студентов этой группы."
   ]
  },
  {
   "cell_type": "code",
   "execution_count": 160,
   "metadata": {},
   "outputs": [],
   "source": [
    "students_dict = {student[0]: student[1:] for student in students}\n",
    "students_dict"
   ]
  },
  {
   "cell_type": "code",
   "execution_count": 169,
   "metadata": {},
   "outputs": [],
   "source": [
    "def change_group(student_id,new_group):\n",
    "    students_dict[student_id][4] = new_group\n",
    "\n",
    "change_group(\"0096\",\"KEK666\")\n",
    "students_dict"
   ]
  },
  {
   "cell_type": "code",
   "execution_count": 185,
   "metadata": {},
   "outputs": [],
   "source": [
    "def list_students_by_group(group_name, as_list = False):\n",
    "    output = []\n",
    "    for student in students_dict.values():\n",
    "        if student[4] == group_name:\n",
    "            if as_list:\n",
    "                output.append([student[0],student[1],student[2]])\n",
    "            else:\n",
    "                output.append(\" \".join([student[0],student[1],student[2]]))\n",
    "    return output"
   ]
  },
  {
   "cell_type": "code",
   "execution_count": 188,
   "metadata": {},
   "outputs": [],
   "source": [
    "list_students_by_group('БСТ163')"
   ]
  },
  {
   "cell_type": "code",
   "execution_count": 189,
   "metadata": {},
   "outputs": [],
   "source": [
    "list_students_by_group('БСТ161', True)"
   ]
  },
  {
   "cell_type": "markdown",
   "metadata": {},
   "source": [
    "### Задача 5\n",
    "Дана матрица:"
   ]
  },
  {
   "cell_type": "code",
   "execution_count": 191,
   "metadata": {},
   "outputs": [],
   "source": [
    "matrix = [\n",
    "            [0, 1, 2, 4, 8],\n",
    "            [6, 2, 2, 1, 9],\n",
    "            [3, 3, 3, 3, 3],\n",
    "            [4, 6, 7, 1, 2],\n",
    "            [5, 7, 3, 4, 0]\n",
    "        ]"
   ]
  },
  {
   "cell_type": "markdown",
   "metadata": {},
   "source": [
    "1. Выведите результат сложения всех элементов матрицы.\n",
    "1. Напишите алгоритм вычисления максимума из сумм элементов каждого столбца."
   ]
  },
  {
   "cell_type": "code",
   "execution_count": 198,
   "metadata": {},
   "outputs": [],
   "source": [
    "row_sum = [sum(x) for x in matrix]\n",
    "print(sum(row_sum))"
   ]
  },
  {
   "cell_type": "code",
   "execution_count": 19,
   "metadata": {},
   "outputs": [],
   "source": [
    "# Изначальное решение - перпутал столбец со строкой) Ниже корректное\n",
    "row_sum = [sum(x) for x in matrix]\n",
    "print(row_sum)\n",
    "print(max(row_sum))"
   ]
  },
  {
   "cell_type": "code",
   "execution_count": 20,
   "metadata": {},
   "outputs": [],
   "source": [
    "total = [0] * len(matrix)\n",
    "for x in matrix:\n",
    "    for i,y in enumerate(x):\n",
    "        total[i] += y\n",
    "\n",
    "print(max(total))"
   ]
  }
 ],
 "metadata": {
  "kernelspec": {
   "display_name": "Python 3",
   "language": "python",
   "name": "python3"
  },
  "language_info": {
   "codemirror_mode": {
    "name": "ipython",
    "version": 3
   },
   "file_extension": ".py",
   "mimetype": "text/x-python",
   "name": "python",
   "nbconvert_exporter": "python",
   "pygments_lexer": "ipython3",
   "version": "3.7.3"
  }
 },
 "nbformat": 4,
 "nbformat_minor": 2
}
