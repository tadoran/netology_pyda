{
 "cells": [
  {
   "cell_type": "markdown",
   "metadata": {},
   "source": [
    "## Задание 1"
   ]
  },
  {
   "cell_type": "code",
   "execution_count": 1,
   "metadata": {},
   "outputs": [
    {
     "name": "stdout",
     "output_type": "stream",
     "text": [
      "Кол-во элементов для вывода: 15\n",
      "1\n",
      "2\n",
      "fizz\n",
      "4\n",
      "buzz\n",
      "fizz\n",
      "7\n",
      "8\n",
      "fizz\n",
      "buzz\n",
      "11\n",
      "fizz\n",
      "13\n"
     ]
    }
   ],
   "source": [
    "elementsCount = input(\"Кол-во элементов для вывода: \")\n",
    "for x in  range(1,int(elementsCount) - 1):\n",
    "    if x % 3 == 0:\n",
    "        print(\"fizz\")\n",
    "    elif x % 5 == 0:\n",
    "        print(\"buzz\")\n",
    "    else:\n",
    "        print(x)"
   ]
  },
  {
   "cell_type": "markdown",
   "metadata": {},
   "source": [
    "## Задание 2"
   ]
  },
  {
   "cell_type": "code",
   "execution_count": 2,
   "metadata": {},
   "outputs": [
    {
     "name": "stdout",
     "output_type": "stream",
     "text": [
      "Периодичность: 4 (cигнал - \"1011\")\n"
     ]
    }
   ],
   "source": [
    "testSignal = \"1011101110111011101110111011101110111011\"\n",
    "\n",
    "signalIsFound = False\n",
    "\n",
    "# Пробегаемся по всем возможным периодичностям.\n",
    "# Предполагаем, что в полученном пакете укладывается полное кол-во сигналов,\n",
    "#    кратное искомой длине пакета. Остальные варианты пропускаем.\n",
    "# Длина периодичности - меньше длины всего сигнала, поэтому при переборе остановимся,\n",
    "#   если достигнем или (макcимальной длины периодичности) или (длины сигнала - 1)\n",
    "for x in range(3,min(1000, len(testSignal)-1)):\n",
    "    # Рассмотрим только варианты, где пакет полностью укладывается в проверяемую периодичность\n",
    "    if len(testSignal)%x == 0:\n",
    "        # Проверяемый периодический сигнал\n",
    "        signalToTest = str(testSignal[0:x])\n",
    "        # Воссоздадим полный сигнал, используя первые x символов testSignal\n",
    "        recreatedSignal = signalToTest * int(len(testSignal) / x)\n",
    "        \n",
    "        # Если воссозданный сигнал повторяет исходный - выводим сообщение и выходим\n",
    "        if testSignal == recreatedSignal:\n",
    "            print(\"Периодичность: \" + str(x) + ' (cигнал - \"' + signalToTest + '\")')\n",
    "            signalIsFound = True\n",
    "            break\n",
    "# Если после всех итераций сигнал не найден - выведем сообщение о провале\n",
    "if signalIsFound == False:\n",
    "    print(\"Установить исходный пакет не удалось :(\")"
   ]
  },
  {
   "cell_type": "markdown",
   "metadata": {},
   "source": [
    "## Задание 3"
   ]
  },
  {
   "cell_type": "code",
   "execution_count": 3,
   "metadata": {},
   "outputs": [
    {
     "name": "stdout",
     "output_type": "stream",
     "text": [
      "Введите слово: Testing\n",
      "t\n"
     ]
    }
   ],
   "source": [
    "testWord = input(\"Введите слово: \")\n",
    "if len(testWord)%2 == 0:\n",
    "    middleChar = int(len(testWord)/2) - 1\n",
    "    symbolsToOutput = 2\n",
    "else:\n",
    "    middleChar = int((len(testWord)/2))\n",
    "    symbolsToOutput = 1\n",
    "print(testWord[middleChar:middleChar+symbolsToOutput])"
   ]
  }
 ],
 "metadata": {
  "kernelspec": {
   "display_name": "Python 3",
   "language": "python",
   "name": "python3"
  },
  "language_info": {
   "codemirror_mode": {
    "name": "ipython",
    "version": 3
   },
   "file_extension": ".py",
   "mimetype": "text/x-python",
   "name": "python",
   "nbconvert_exporter": "python",
   "pygments_lexer": "ipython3",
   "version": "3.7.3"
  }
 },
 "nbformat": 4,
 "nbformat_minor": 2
}
