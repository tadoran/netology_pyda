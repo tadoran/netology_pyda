{
 "cells": [
  {
   "cell_type": "markdown",
   "metadata": {},
   "source": [
    "# Домашнее задание к лекции \"Регулярные выражения\"\n",
    "Для зачета необходимо выполнить 4 задания.  \n",
    "Для зачета с отличием – все."
   ]
  },
  {
   "cell_type": "markdown",
   "metadata": {},
   "source": [
    "## Задание 1"
   ]
  },
  {
   "cell_type": "markdown",
   "metadata": {},
   "source": [
    "Напишите функцию, которая принимает на вход строку и проверяет является ли она валидным транспортным номером. Если да, то функция должна возвращать отдельно номер и регион."
   ]
  },
  {
   "cell_type": "code",
   "execution_count": 1,
   "metadata": {},
   "outputs": [],
   "source": [
    "import random\n",
    "import re\n",
    "\n",
    "validLetters = \"АВЕКМНОРСТУХ\"\n",
    "\n",
    "def randAutoLetter(onlyValidLetters = False):\n",
    "    '''Возвращает 1 букву русского алфавита для автознака (корректную или любую - в зависимости от onlyValidLetters)'''\n",
    "    if onlyValidLetters:\n",
    "        return random.choice(validLetters)\n",
    "    else:\n",
    "        allCyrrilicLetters = \"абвгдеёжзийклмнопрстуфхцчшщъыьэюяАБВГДЕЁЖЗИЙКЛМНОПРСТУФХЦЧШЩЪЫЬЭЮЯ\"\n",
    "        return  random.choice(allCyrrilicLetters)\n",
    "\n",
    "def randAutoNum(onlyValidLetters = False):\n",
    "    '''Генерирует случайный номер автомобильного номера.\n",
    "    В зависимости от onlyValidLetters - номер либо будет сгенерирован либо правильным, \n",
    "    либо - с использованием любых русских букв (т.е вероятно некорректным).'''\n",
    "    randNumber1 = random.randrange(0,999)\n",
    "    randNumber2 = random.randrange(0,125)\n",
    "    \n",
    "    autoNum = f\"{randAutoLetter(onlyValidLetters)}{randNumber1:03}{randAutoLetter(onlyValidLetters) * 2}{randNumber2:02}\"\n",
    "    return autoNum\n",
    "\n",
    "def validateAutoNum(autoNum):\n",
    "    possibleLetterGroup = \"[\" + validLetters + \"]\" \n",
    "    pattern = r\"(\" + possibleLetterGroup + \"\\d{3}\" + possibleLetterGroup + \"{2})(\\d{1,3})\"\n",
    "    result = re.findall(pattern, autoNum.upper())\n",
    "\n",
    "    if len(result) == 0:           # Нет совпадения\n",
    "        return \n",
    "    else:\n",
    "        if int(result[0][1]) <= 0: # Регион <= 0\n",
    "            return \n",
    "    return result\n",
    "\n",
    "for r in range(10):\n",
    "    randNum = randAutoNum(random.randint(0,1))\n",
    "    print(randNum, validateAutoNum(randNum))"
   ]
  },
  {
   "cell_type": "markdown",
   "metadata": {},
   "source": [
    "## Задание 2"
   ]
  },
  {
   "cell_type": "markdown",
   "metadata": {},
   "source": [
    "Напишите функцию, которая проверяет e-mail адрес на валидность по стандарту RFC822: http://www.w3.org/Protocols/rfc822/. Для этого постарайтесь написать (в крайнем случае найти) самый полный шаблон для проверки e-mail адресов через регулярное выражение. Разберитесь и напишите примеры, какие ваш шаблон может не охватить."
   ]
  },
  {
   "cell_type": "code",
   "execution_count": 2,
   "metadata": {},
   "outputs": [],
   "source": [
    "def validateEmailAddress(address):\n",
    "    #pattern = r\"((:?[\\\"'0-9A-z\\+\\.-]|([\\\"'])+?[\\s\\S]+?\\3)+@[\\d\\w\\.-]+\\.(:?\\w)*)\"           # Вариант 1\n",
    "    pattern = r\"^[0-9\\w\\.\\%\\/\\-\\+\\*\\!]+@(:?[0-9A-z\\-]|[0-9A-z\\-]+\\.?[0-9A-z\\-]+)+\\.{1}\\w*$\" # Вариант 2\n",
    "    \n",
    "    # http://emailregex.com/\n",
    "    #pattern = r\"(^[a-zA-Z0-9_.+-]+@[a-zA-Z0-9-]+\\.[a-zA-Z0-9-.]+$)\"                        # Этот работает получше)\n",
    "    \n",
    "    result = re.match(pattern,address)\n",
    "    if result is None:\n",
    "        return False\n",
    "    else:\n",
    "        return True\n",
    "\n",
    "emails = ([\n",
    "            \"n.john.smith@gmail.com\", \"87victory@hotmail.com\", \"!#mary-=@msca.net\",\"abc.@insta.com\",\n",
    "            \"abc..de@insta.com\",\"abc-@insta.com\", \"abc-def@insta.com\",\"abc+@insta.com\",\n",
    "            \"abc123..45@insta.com\", \"abc%@insta.com\",\"abc\\\\@insta.com\", \"abc/@insta.com\",\n",
    "            \"abc@insta-.com\", \"abc@insta123.com\",\"abc@inta.co.in\", \"abc@@insta.com.com.com\",\n",
    "            \"abc@insta..com\",\"abc@insta%.com\", \"abc@insta/.com\",\"abc@insta\\\\.com\",\n",
    "            \"abc1.1@domain.com\",\"abc.abc@domain.com\", \"abc_41.15768@domain.com\",\n",
    "            \"12345@domain.com\",\"12.12.23@domain.com\", \"ABC.ABC.ABC.ABC0046@domain.com\",\n",
    "            \"abc_123_4595@domain.com\", \"abc@asdas.co.in\"\n",
    "        ])\n",
    "\n",
    "for email in emails:\n",
    "    if validateEmailAddress(email):\n",
    "        print(f'The email {email} is a valid email')\n",
    "    else:\n",
    "        print(f'The email {email} is invalid')  "
   ]
  },
  {
   "cell_type": "markdown",
   "metadata": {},
   "source": [
    "## Задание 3\n",
    "При помощи регулярных выражений напишите функцию, которая будет возвращать акроним переданного в нее текста."
   ]
  },
  {
   "cell_type": "code",
   "execution_count": 3,
   "metadata": {},
   "outputs": [
    {
     "name": "stdout",
     "output_type": "stream",
     "text": [
      "ЖДЕМ ЛЕКЦИИ ПО ООП НА ПАЙТОНЕ\n"
     ]
    }
   ],
   "source": [
    "def acronym(text, sep=\".\"):\n",
    "    pattern = \"(:?(\\w)\\w*\\n*){1,}\"\n",
    "    patternMatch = re.findall(pattern, text)\n",
    "    return [x[1].upper()+sep for x in patternMatch]\n",
    "    \n",
    "text = ([\n",
    "    \"Жаркое дневное Египетское марево.\",\n",
    "    \"Летом Египет кажется целиком искусственным, и \",\n",
    "    \"при относительно\",\n",
    "    \"обширной орошаемой площади\",\n",
    "    'недостаточно аэрированным.',\n",
    "    \"При абстиненции йода требуется орошать низины ежедневно.\"\n",
    "    ])\n",
    "\n",
    "print(\" \".join([\"\".join(acronym(txt,\"\")) for txt in text]))"
   ]
  },
  {
   "cell_type": "markdown",
   "metadata": {},
   "source": [
    "## Задание 4\n",
    "Напишите функцию, которая будет удалять все последовательные повторы слов из заданной строки."
   ]
  },
  {
   "cell_type": "code",
   "execution_count": 4,
   "metadata": {},
   "outputs": [
    {
     "data": {
      "text/plain": [
       "'У меня много одинаковых слов'"
      ]
     },
     "execution_count": 4,
     "metadata": {},
     "output_type": "execute_result"
    }
   ],
   "source": [
    "def removeDublicates(text):\n",
    "    return re.sub(r\"(\\w+ )\\1{2,}\", r\"\\1\", text)\n",
    "    \n",
    "removeDublicates(\"У меня много много много одинаковых слов\")\n",
    "    "
   ]
  },
  {
   "cell_type": "markdown",
   "metadata": {},
   "source": [
    "## Задание 5\n",
    "Напишите функцию, которая будет проверять номер сотового телефона на валидность, если он валиден, то переводить его в формат:   \n",
    "+7(xxx)-xxx-xx-xx  \n",
    "Постарайтесь предусмотреть как можно больше адекватных форматов изначального ввода номера.\n",
    "Примеры правильных и неправильных форматов:\n",
    "- +1 555 555-55-55;\n",
    "- 5555555555;\n",
    "- 555555555;\n",
    "- 8(555)555-55-55;\n",
    "- +7 555 555 55 55;\n",
    "- 7(555) 555-55-55;\n",
    "- +7 555+555+55+55."
   ]
  },
  {
   "cell_type": "code",
   "execution_count": 5,
   "metadata": {},
   "outputs": [
    {
     "name": "stdout",
     "output_type": "stream",
     "text": [
      "('+1 555 555-55-55', None)\n",
      "('5555555555', '+7 (555)-555-55-55')\n",
      "('555555555', None)\n",
      "('8(555)555-55-55', '+7 (555)-555-55-55')\n",
      "('+7 555 555 55 55', '+7 (555)-555-55-55')\n",
      "('7(555) 555-55-55', '+7 (555)-555-55-55')\n",
      "('+7 555+555+55+55.', '+7 (555)-555-55-55')\n",
      "('+42 555.123.4567', None)\n",
      "('+1-(800)-123-4567', None)\n",
      "('+7 555 1234567', '+7 (555)-123-45-67')\n",
      "('+7(926)1234567', '+7 (926)-123-45-67')\n",
      "('(926) 1234567', '+7 (926)-123-45-67')\n",
      "('+79261234567', '+7 (926)-123-45-67')\n",
      "('926 1234567', '+7 (926)-123-45-67')\n",
      "('9261234567', '+7 (926)-123-45-67')\n",
      "('1234567', None)\n",
      "('123-4567', None)\n",
      "('123-89-01', None)\n",
      "('495 1234567', '+7 (495)-123-45-67')\n",
      "('469 123 45 67', '+7 (469)-123-45-67')\n",
      "('89261234567', '+7 (926)-123-45-67')\n",
      "('8 (926) 123456', '+7 (892)-612-34-56')\n",
      "('926.123.4567', '+7 (926)-123-45-67')\n",
      "('415-555-1234', '+7 (415)-555-12-34')\n",
      "('650-555-2345', '+7 (650)-555-23-45')\n",
      "('(416)555-3456', '+7 (416)-555-34-56')\n",
      "('202 555 4567', '+7 (202)-555-45-67')\n",
      "('4035555678', '+7 (403)-555-56-78')\n",
      "('1 416 555 9292', None)\n"
     ]
    }
   ],
   "source": [
    "def validateRusMobile(txt):\n",
    "    # Удалим все не-цифры\n",
    "    nonFormattedTxt = txt\n",
    "    txt = re.sub(r\"[^\\d]\",\"\",txt)\n",
    "    # Ожидаем, что телефон идет с начала строки до конца \n",
    "    pattern = r\"^(?:(?:7|8)*(\\d{3})(\\d{3})(\\d{2})(\\d{2}))$\"\n",
    "    \n",
    "    # Российкий мобильный номер (по шаблону +7*(9xx)-xxx-xx-xx)\n",
    "    #pattern = r\"^(?:(?:7|8)*(9\\d{2})(\\d{3})(\\d{2})(\\d{2}))$\"   \n",
    "    \n",
    "    result = re.findall(pattern,txt)    \n",
    "    formattedPhoneNum = None\n",
    "    if len(result) > 0:\n",
    "        formattedPhoneNum = \"+7 ({0})-{1}-{2}-{3}\".format(*result[0])\n",
    "    return (nonFormattedTxt, formattedPhoneNum)\n",
    "\n",
    "phones = ([\n",
    "    \"+1 555 555-55-55\",  # Not Ok - начинается не на +7 / 8\n",
    "    \"5555555555\",        # Ok\n",
    "    \"555555555\",         # Not Ok - мало цифр\n",
    "    \"8(555)555-55-55\",   # Ok\n",
    "    \"+7 555 555 55 55\",  # Ok\n",
    "    \"7(555) 555-55-55\",  # Ok\n",
    "    \"+7 555+555+55+55.\", # Ok\n",
    "    \"+42 555.123.4567\",  # Not Ok - начинается не на +7 / 8\n",
    "    \"+1-(800)-123-4567\", # Not Ok - начинается не на +7 / 8\n",
    "    \"+7 555 1234567\",    # Ok\n",
    "    \"+7(926)1234567\",    # Ok\n",
    "    \"(926) 1234567\",     # Ok\n",
    "    \"+79261234567\",      # Ok\n",
    "    \"926 1234567\",       # Ok\n",
    "    \"9261234567\",        # Ok\n",
    "    \"1234567\",           # Not Ok - мало цифр\n",
    "    \"123-4567\",          # Not Ok - мало цифр\n",
    "    \"123-89-01\",         # Not Ok - мало цифр\n",
    "    \"495 1234567\",       # Ok\n",
    "    \"469 123 45 67\",     # Ok\n",
    "    \"89261234567\",       # Ok\n",
    "    \"8 (926) 123456\",    # Ok\n",
    "    \"926.123.4567\",      # Ok\n",
    "    \"415-555-1234\",      # Ok\n",
    "    \"650-555-2345\",      # Ok\n",
    "    \"(416)555-3456\",     # Ok\n",
    "    \"202 555 4567\",      # Ok\n",
    "    \"4035555678\",        # Ok\n",
    "    \"1 416 555 9292\"     # Not ok - начинается не на +7 / 8\n",
    "          ])\n",
    "\n",
    "for txt in phones:\n",
    "    print(validateRusMobile(txt))\n"
   ]
  }
 ],
 "metadata": {
  "kernelspec": {
   "display_name": "Python 3",
   "language": "python",
   "name": "python3"
  },
  "language_info": {
   "codemirror_mode": {
    "name": "ipython",
    "version": 3
   },
   "file_extension": ".py",
   "mimetype": "text/x-python",
   "name": "python",
   "nbconvert_exporter": "python",
   "pygments_lexer": "ipython3",
   "version": "3.7.3"
  }
 },
 "nbformat": 4,
 "nbformat_minor": 2
}
