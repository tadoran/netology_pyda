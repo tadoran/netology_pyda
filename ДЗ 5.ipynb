{
 "cells": [
  {
   "cell_type": "markdown",
   "metadata": {},
   "source": [
    "# Домашнее задание\n",
    "1. Переведите содержимое файла purchase_log.txt в словарь purchases вида:\n",
    "```python\n",
    "{'1840e0b9d4': 'Продукты', ...}\n",
    "```\n",
    "\n",
    "2. Для каждого user_id в файле visit_log.csv добавьте третий столбец с категорией покупки (если покупка была).\n",
    "\n",
    "3. Запишите в файл funnel.csv визиты из файла visit_log.csv, в которых были покупки с указанием категории.\n",
    "\n",
    "Учтите условия на данные:\n",
    "- содержимое purchase_log.txt помещается в оперативную память компьютера\n",
    "- содержимое visit_log.csv - нет; используйте только построчную обработку этого файла"
   ]
  },
  {
   "cell_type": "markdown",
   "metadata": {},
   "source": [
    "### Задание 1"
   ]
  },
  {
   "cell_type": "code",
   "execution_count": 1,
   "metadata": {},
   "outputs": [
    {
     "name": "stdout",
     "output_type": "stream",
     "text": [
      "user_id: category\n",
      "1840e0b9d4: Продукты\n",
      "4e4f90fcfb: Электроника\n",
      "afea8d72fc: Электроника\n",
      "373a6055fe: Бытовая техника\n",
      "9b2ab046f3: Электроника\n",
      "9f39d307c3: Электроника\n",
      "44edeffc91: Продукты\n",
      "704474fa2d: Продукты\n",
      "1de31be403: Бытовая техника\n",
      "b71f36a5e4: Продукты\n",
      "79843a685a: Продукты\n",
      "ff68cee0d6: Бытовая техника\n",
      "e8447c40e2: Досуг\n",
      "98d290be27: Электроника\n",
      "fa0079a5a8: Досуг\n",
      "22d2f03a17: Досуг\n",
      "3f8e1ccd3f: Электроника\n",
      "81a9988b83: Электроника\n",
      "65f44a2eb7: Досуг\n",
      "5f8fbb0149: Бытовая техника\n",
      "...\n"
     ]
    }
   ],
   "source": [
    "import json\n",
    "purchases = dict()\n",
    "with open(\"purchase_log.txt\",\"r\",encoding=\"UTF-8\") as f:\n",
    "    purchase_log = list(map(json.loads,map(str.strip,f.readlines())))\n",
    "\n",
    "for user, category in (line.values() for line in purchase_log):\n",
    "    purchases[user] = category\n",
    "\n",
    "counter = 0\n",
    "for key, value in purchases.items():\n",
    "    if counter <= 20:\n",
    "        print(f\"{key}: {value}\")\n",
    "    counter += 1\n",
    "print(\"...\")"
   ]
  },
  {
   "cell_type": "markdown",
   "metadata": {},
   "source": [
    "### Задание 2,3"
   ]
  },
  {
   "cell_type": "code",
   "execution_count": 2,
   "metadata": {},
   "outputs": [],
   "source": [
    "with open(\"visit_log.csv\", \"r\") as f1:\n",
    "    with open(\"funnel.csv\",\"w+\") as f2:\n",
    "        for line in f1:\n",
    "            curId = line.strip().split(\",\")[0]\n",
    "            if purchases.get(curId,None) != None:\n",
    "                f2.write(line.strip() + \",\" + purchases[curId] + \"\\n\")\n",
    "            else:\n",
    "                # Насколько понял из комментария в Slack'е - нужно только вывести в funnel.csv, но на всякий\n",
    "                pass\n",
    "                #f2.write(line) - если нужен полный список"
   ]
  }
 ],
 "metadata": {
  "kernelspec": {
   "display_name": "Python 3",
   "language": "python",
   "name": "python3"
  },
  "language_info": {
   "codemirror_mode": {
    "name": "ipython",
    "version": 3
   },
   "file_extension": ".py",
   "mimetype": "text/x-python",
   "name": "python",
   "nbconvert_exporter": "python",
   "pygments_lexer": "ipython3",
   "version": "3.7.3"
  }
 },
 "nbformat": 4,
 "nbformat_minor": 2
}
